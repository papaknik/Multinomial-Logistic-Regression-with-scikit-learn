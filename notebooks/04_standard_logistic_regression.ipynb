{
 "cells": [
  {
   "cell_type": "markdown",
   "id": "87b72236-dfb3-4eb5-b7ef-1bb427cfed55",
   "metadata": {},
   "source": [
    "### Standard Logistic Regression"
   ]
  },
  {
   "cell_type": "code",
   "execution_count": 1,
   "id": "fa111724-5a5c-4892-82a2-84e72a1ed433",
   "metadata": {},
   "outputs": [],
   "source": [
    "from IPython.core.interactiveshell import InteractiveShell\n",
    "InteractiveShell.ast_node_interactivity = \"all\""
   ]
  },
  {
   "cell_type": "code",
   "execution_count": 14,
   "id": "189dcc17-797b-4379-be0e-8b7198ebc6c8",
   "metadata": {},
   "outputs": [],
   "source": [
    "from pathlib import Path\n",
    "import pandas as pd\n",
    "\n",
    "# Ensure you have created a \"data\" folder in your project directory \n",
    "# and downloaded the CSV file inside it.\n",
    "file_path = Path.cwd().parent / \"data\" / \"athens_weather_df_2019_2023.csv\"\n",
    "\n",
    "# Load dataset with index and date parsing\n",
    "lagged_1h_df = pd.read_csv(file_path, parse_dates=[\"date\"])"
   ]
  },
  {
   "cell_type": "code",
   "execution_count": 15,
   "id": "deedad69-e9c1-4108-a372-a3bd6fe38ac4",
   "metadata": {},
   "outputs": [
    {
     "name": "stdout",
     "output_type": "stream",
     "text": [
      "['direct_radiation_lag_1h', 'cloud_cover_mid_lag_1h', 'cloud_cover_low_lag_1h', 'vapour_pressure_deficit_lag_1h', 'evapotranspiration_lag_1h']\n"
     ]
    }
   ],
   "source": [
    "import pickle\n",
    "\n",
    "# Load the list of variables to transform\n",
    "variables_to_transform_path = \"../data/variables_to_transform.pkl\"\n",
    "\n",
    "with open(variables_to_transform_path, \"rb\") as f:\n",
    "    variables_to_transform = pickle.load(f)\n",
    "\n",
    "print(variables_to_transform)"
   ]
  },
  {
   "cell_type": "markdown",
   "id": "a3a3b6a3-1208-45b7-a673-909eb8d0eb91",
   "metadata": {},
   "source": [
    "We will begin the modeling phase by instantiating a Logistic Regression model with default settings, without any adjustments for class imbalance. This model will serve as our baseline, providing a reference point against which, we can compare other potentially more complex, adjusted models and offer a straightforward and intuitive way to compare different model implementations."
   ]
  },
  {
   "cell_type": "markdown",
   "id": "a69f45d7-dc56-4968-8fc8-b01ad403f92b",
   "metadata": {},
   "source": [
    "- separate the dataset into input space X (the predictor variables) and to output space y (the target/response) variable"
   ]
  },
  {
   "cell_type": "code",
   "execution_count": 16,
   "id": "878cc19d-bd8a-4de3-a980-62fffefa63cd",
   "metadata": {},
   "outputs": [],
   "source": [
    "X = lagged_1h_df.drop(columns=['date', 'weather_event'])\n",
    "y = lagged_1h_df['weather_event']"
   ]
  },
  {
   "cell_type": "markdown",
   "id": "aa3374b2-7d37-4964-b974-b021b3931c2d",
   "metadata": {},
   "source": [
    "- data is split into a training set (70%) and a test set (30%) using stratified sampling to maintain the proportions of the classes for the target variable y in both sets. This ensures that the model is trained and evaluated with the same label distribution. The random state is set for reproducibility."
   ]
  },
  {
   "cell_type": "code",
   "execution_count": 17,
   "id": "b168960e-1a25-40d0-a55f-4f31d78ffaf2",
   "metadata": {},
   "outputs": [],
   "source": [
    "from sklearn.model_selection import train_test_split\n",
    "X_train, X_test, y_train, y_test = train_test_split(X, y, test_size=0.3, stratify=y, random_state=42)"
   ]
  },
  {
   "cell_type": "markdown",
   "id": "6fca130a-bd6b-4077-87c0-14833fbdea87",
   "metadata": {},
   "source": [
    "After splitting the data into train and test sets, we are ready to build the model's pipeline.   \n",
    "In this standard logistic regression approach, the pipeline will include two preprocessing steps:\n",
    "- Scaling the Data:\n",
    "We will use the RobustScaler() to scale the data, as it is resilient to outliers and ensures features are on a similar scale, which is important for logistic regression.\n",
    "- Model Instantiation:\n",
    "We will instantiate the LogisticRegression() class, and set the `multi_class` argument to 'multinomial'."
   ]
  },
  {
   "cell_type": "code",
   "execution_count": 19,
   "id": "d9075461-880f-473f-8b15-019b3efe72b9",
   "metadata": {},
   "outputs": [
    {
     "data": {
      "text/html": [
       "<style>#sk-container-id-1 {\n",
       "  /* Definition of color scheme common for light and dark mode */\n",
       "  --sklearn-color-text: black;\n",
       "  --sklearn-color-line: gray;\n",
       "  /* Definition of color scheme for unfitted estimators */\n",
       "  --sklearn-color-unfitted-level-0: #fff5e6;\n",
       "  --sklearn-color-unfitted-level-1: #f6e4d2;\n",
       "  --sklearn-color-unfitted-level-2: #ffe0b3;\n",
       "  --sklearn-color-unfitted-level-3: chocolate;\n",
       "  /* Definition of color scheme for fitted estimators */\n",
       "  --sklearn-color-fitted-level-0: #f0f8ff;\n",
       "  --sklearn-color-fitted-level-1: #d4ebff;\n",
       "  --sklearn-color-fitted-level-2: #b3dbfd;\n",
       "  --sklearn-color-fitted-level-3: cornflowerblue;\n",
       "\n",
       "  /* Specific color for light theme */\n",
       "  --sklearn-color-text-on-default-background: var(--sg-text-color, var(--theme-code-foreground, var(--jp-content-font-color1, black)));\n",
       "  --sklearn-color-background: var(--sg-background-color, var(--theme-background, var(--jp-layout-color0, white)));\n",
       "  --sklearn-color-border-box: var(--sg-text-color, var(--theme-code-foreground, var(--jp-content-font-color1, black)));\n",
       "  --sklearn-color-icon: #696969;\n",
       "\n",
       "  @media (prefers-color-scheme: dark) {\n",
       "    /* Redefinition of color scheme for dark theme */\n",
       "    --sklearn-color-text-on-default-background: var(--sg-text-color, var(--theme-code-foreground, var(--jp-content-font-color1, white)));\n",
       "    --sklearn-color-background: var(--sg-background-color, var(--theme-background, var(--jp-layout-color0, #111)));\n",
       "    --sklearn-color-border-box: var(--sg-text-color, var(--theme-code-foreground, var(--jp-content-font-color1, white)));\n",
       "    --sklearn-color-icon: #878787;\n",
       "  }\n",
       "}\n",
       "\n",
       "#sk-container-id-1 {\n",
       "  color: var(--sklearn-color-text);\n",
       "}\n",
       "\n",
       "#sk-container-id-1 pre {\n",
       "  padding: 0;\n",
       "}\n",
       "\n",
       "#sk-container-id-1 input.sk-hidden--visually {\n",
       "  border: 0;\n",
       "  clip: rect(1px 1px 1px 1px);\n",
       "  clip: rect(1px, 1px, 1px, 1px);\n",
       "  height: 1px;\n",
       "  margin: -1px;\n",
       "  overflow: hidden;\n",
       "  padding: 0;\n",
       "  position: absolute;\n",
       "  width: 1px;\n",
       "}\n",
       "\n",
       "#sk-container-id-1 div.sk-dashed-wrapped {\n",
       "  border: 1px dashed var(--sklearn-color-line);\n",
       "  margin: 0 0.4em 0.5em 0.4em;\n",
       "  box-sizing: border-box;\n",
       "  padding-bottom: 0.4em;\n",
       "  background-color: var(--sklearn-color-background);\n",
       "}\n",
       "\n",
       "#sk-container-id-1 div.sk-container {\n",
       "  /* jupyter's `normalize.less` sets `[hidden] { display: none; }`\n",
       "     but bootstrap.min.css set `[hidden] { display: none !important; }`\n",
       "     so we also need the `!important` here to be able to override the\n",
       "     default hidden behavior on the sphinx rendered scikit-learn.org.\n",
       "     See: https://github.com/scikit-learn/scikit-learn/issues/21755 */\n",
       "  display: inline-block !important;\n",
       "  position: relative;\n",
       "}\n",
       "\n",
       "#sk-container-id-1 div.sk-text-repr-fallback {\n",
       "  display: none;\n",
       "}\n",
       "\n",
       "div.sk-parallel-item,\n",
       "div.sk-serial,\n",
       "div.sk-item {\n",
       "  /* draw centered vertical line to link estimators */\n",
       "  background-image: linear-gradient(var(--sklearn-color-text-on-default-background), var(--sklearn-color-text-on-default-background));\n",
       "  background-size: 2px 100%;\n",
       "  background-repeat: no-repeat;\n",
       "  background-position: center center;\n",
       "}\n",
       "\n",
       "/* Parallel-specific style estimator block */\n",
       "\n",
       "#sk-container-id-1 div.sk-parallel-item::after {\n",
       "  content: \"\";\n",
       "  width: 100%;\n",
       "  border-bottom: 2px solid var(--sklearn-color-text-on-default-background);\n",
       "  flex-grow: 1;\n",
       "}\n",
       "\n",
       "#sk-container-id-1 div.sk-parallel {\n",
       "  display: flex;\n",
       "  align-items: stretch;\n",
       "  justify-content: center;\n",
       "  background-color: var(--sklearn-color-background);\n",
       "  position: relative;\n",
       "}\n",
       "\n",
       "#sk-container-id-1 div.sk-parallel-item {\n",
       "  display: flex;\n",
       "  flex-direction: column;\n",
       "}\n",
       "\n",
       "#sk-container-id-1 div.sk-parallel-item:first-child::after {\n",
       "  align-self: flex-end;\n",
       "  width: 50%;\n",
       "}\n",
       "\n",
       "#sk-container-id-1 div.sk-parallel-item:last-child::after {\n",
       "  align-self: flex-start;\n",
       "  width: 50%;\n",
       "}\n",
       "\n",
       "#sk-container-id-1 div.sk-parallel-item:only-child::after {\n",
       "  width: 0;\n",
       "}\n",
       "\n",
       "/* Serial-specific style estimator block */\n",
       "\n",
       "#sk-container-id-1 div.sk-serial {\n",
       "  display: flex;\n",
       "  flex-direction: column;\n",
       "  align-items: center;\n",
       "  background-color: var(--sklearn-color-background);\n",
       "  padding-right: 1em;\n",
       "  padding-left: 1em;\n",
       "}\n",
       "\n",
       "\n",
       "/* Toggleable style: style used for estimator/Pipeline/ColumnTransformer box that is\n",
       "clickable and can be expanded/collapsed.\n",
       "- Pipeline and ColumnTransformer use this feature and define the default style\n",
       "- Estimators will overwrite some part of the style using the `sk-estimator` class\n",
       "*/\n",
       "\n",
       "/* Pipeline and ColumnTransformer style (default) */\n",
       "\n",
       "#sk-container-id-1 div.sk-toggleable {\n",
       "  /* Default theme specific background. It is overwritten whether we have a\n",
       "  specific estimator or a Pipeline/ColumnTransformer */\n",
       "  background-color: var(--sklearn-color-background);\n",
       "}\n",
       "\n",
       "/* Toggleable label */\n",
       "#sk-container-id-1 label.sk-toggleable__label {\n",
       "  cursor: pointer;\n",
       "  display: block;\n",
       "  width: 100%;\n",
       "  margin-bottom: 0;\n",
       "  padding: 0.5em;\n",
       "  box-sizing: border-box;\n",
       "  text-align: center;\n",
       "}\n",
       "\n",
       "#sk-container-id-1 label.sk-toggleable__label-arrow:before {\n",
       "  /* Arrow on the left of the label */\n",
       "  content: \"▸\";\n",
       "  float: left;\n",
       "  margin-right: 0.25em;\n",
       "  color: var(--sklearn-color-icon);\n",
       "}\n",
       "\n",
       "#sk-container-id-1 label.sk-toggleable__label-arrow:hover:before {\n",
       "  color: var(--sklearn-color-text);\n",
       "}\n",
       "\n",
       "/* Toggleable content - dropdown */\n",
       "\n",
       "#sk-container-id-1 div.sk-toggleable__content {\n",
       "  max-height: 0;\n",
       "  max-width: 0;\n",
       "  overflow: hidden;\n",
       "  text-align: left;\n",
       "  /* unfitted */\n",
       "  background-color: var(--sklearn-color-unfitted-level-0);\n",
       "}\n",
       "\n",
       "#sk-container-id-1 div.sk-toggleable__content.fitted {\n",
       "  /* fitted */\n",
       "  background-color: var(--sklearn-color-fitted-level-0);\n",
       "}\n",
       "\n",
       "#sk-container-id-1 div.sk-toggleable__content pre {\n",
       "  margin: 0.2em;\n",
       "  border-radius: 0.25em;\n",
       "  color: var(--sklearn-color-text);\n",
       "  /* unfitted */\n",
       "  background-color: var(--sklearn-color-unfitted-level-0);\n",
       "}\n",
       "\n",
       "#sk-container-id-1 div.sk-toggleable__content.fitted pre {\n",
       "  /* unfitted */\n",
       "  background-color: var(--sklearn-color-fitted-level-0);\n",
       "}\n",
       "\n",
       "#sk-container-id-1 input.sk-toggleable__control:checked~div.sk-toggleable__content {\n",
       "  /* Expand drop-down */\n",
       "  max-height: 200px;\n",
       "  max-width: 100%;\n",
       "  overflow: auto;\n",
       "}\n",
       "\n",
       "#sk-container-id-1 input.sk-toggleable__control:checked~label.sk-toggleable__label-arrow:before {\n",
       "  content: \"▾\";\n",
       "}\n",
       "\n",
       "/* Pipeline/ColumnTransformer-specific style */\n",
       "\n",
       "#sk-container-id-1 div.sk-label input.sk-toggleable__control:checked~label.sk-toggleable__label {\n",
       "  color: var(--sklearn-color-text);\n",
       "  background-color: var(--sklearn-color-unfitted-level-2);\n",
       "}\n",
       "\n",
       "#sk-container-id-1 div.sk-label.fitted input.sk-toggleable__control:checked~label.sk-toggleable__label {\n",
       "  background-color: var(--sklearn-color-fitted-level-2);\n",
       "}\n",
       "\n",
       "/* Estimator-specific style */\n",
       "\n",
       "/* Colorize estimator box */\n",
       "#sk-container-id-1 div.sk-estimator input.sk-toggleable__control:checked~label.sk-toggleable__label {\n",
       "  /* unfitted */\n",
       "  background-color: var(--sklearn-color-unfitted-level-2);\n",
       "}\n",
       "\n",
       "#sk-container-id-1 div.sk-estimator.fitted input.sk-toggleable__control:checked~label.sk-toggleable__label {\n",
       "  /* fitted */\n",
       "  background-color: var(--sklearn-color-fitted-level-2);\n",
       "}\n",
       "\n",
       "#sk-container-id-1 div.sk-label label.sk-toggleable__label,\n",
       "#sk-container-id-1 div.sk-label label {\n",
       "  /* The background is the default theme color */\n",
       "  color: var(--sklearn-color-text-on-default-background);\n",
       "}\n",
       "\n",
       "/* On hover, darken the color of the background */\n",
       "#sk-container-id-1 div.sk-label:hover label.sk-toggleable__label {\n",
       "  color: var(--sklearn-color-text);\n",
       "  background-color: var(--sklearn-color-unfitted-level-2);\n",
       "}\n",
       "\n",
       "/* Label box, darken color on hover, fitted */\n",
       "#sk-container-id-1 div.sk-label.fitted:hover label.sk-toggleable__label.fitted {\n",
       "  color: var(--sklearn-color-text);\n",
       "  background-color: var(--sklearn-color-fitted-level-2);\n",
       "}\n",
       "\n",
       "/* Estimator label */\n",
       "\n",
       "#sk-container-id-1 div.sk-label label {\n",
       "  font-family: monospace;\n",
       "  font-weight: bold;\n",
       "  display: inline-block;\n",
       "  line-height: 1.2em;\n",
       "}\n",
       "\n",
       "#sk-container-id-1 div.sk-label-container {\n",
       "  text-align: center;\n",
       "}\n",
       "\n",
       "/* Estimator-specific */\n",
       "#sk-container-id-1 div.sk-estimator {\n",
       "  font-family: monospace;\n",
       "  border: 1px dotted var(--sklearn-color-border-box);\n",
       "  border-radius: 0.25em;\n",
       "  box-sizing: border-box;\n",
       "  margin-bottom: 0.5em;\n",
       "  /* unfitted */\n",
       "  background-color: var(--sklearn-color-unfitted-level-0);\n",
       "}\n",
       "\n",
       "#sk-container-id-1 div.sk-estimator.fitted {\n",
       "  /* fitted */\n",
       "  background-color: var(--sklearn-color-fitted-level-0);\n",
       "}\n",
       "\n",
       "/* on hover */\n",
       "#sk-container-id-1 div.sk-estimator:hover {\n",
       "  /* unfitted */\n",
       "  background-color: var(--sklearn-color-unfitted-level-2);\n",
       "}\n",
       "\n",
       "#sk-container-id-1 div.sk-estimator.fitted:hover {\n",
       "  /* fitted */\n",
       "  background-color: var(--sklearn-color-fitted-level-2);\n",
       "}\n",
       "\n",
       "/* Specification for estimator info (e.g. \"i\" and \"?\") */\n",
       "\n",
       "/* Common style for \"i\" and \"?\" */\n",
       "\n",
       ".sk-estimator-doc-link,\n",
       "a:link.sk-estimator-doc-link,\n",
       "a:visited.sk-estimator-doc-link {\n",
       "  float: right;\n",
       "  font-size: smaller;\n",
       "  line-height: 1em;\n",
       "  font-family: monospace;\n",
       "  background-color: var(--sklearn-color-background);\n",
       "  border-radius: 1em;\n",
       "  height: 1em;\n",
       "  width: 1em;\n",
       "  text-decoration: none !important;\n",
       "  margin-left: 1ex;\n",
       "  /* unfitted */\n",
       "  border: var(--sklearn-color-unfitted-level-1) 1pt solid;\n",
       "  color: var(--sklearn-color-unfitted-level-1);\n",
       "}\n",
       "\n",
       ".sk-estimator-doc-link.fitted,\n",
       "a:link.sk-estimator-doc-link.fitted,\n",
       "a:visited.sk-estimator-doc-link.fitted {\n",
       "  /* fitted */\n",
       "  border: var(--sklearn-color-fitted-level-1) 1pt solid;\n",
       "  color: var(--sklearn-color-fitted-level-1);\n",
       "}\n",
       "\n",
       "/* On hover */\n",
       "div.sk-estimator:hover .sk-estimator-doc-link:hover,\n",
       ".sk-estimator-doc-link:hover,\n",
       "div.sk-label-container:hover .sk-estimator-doc-link:hover,\n",
       ".sk-estimator-doc-link:hover {\n",
       "  /* unfitted */\n",
       "  background-color: var(--sklearn-color-unfitted-level-3);\n",
       "  color: var(--sklearn-color-background);\n",
       "  text-decoration: none;\n",
       "}\n",
       "\n",
       "div.sk-estimator.fitted:hover .sk-estimator-doc-link.fitted:hover,\n",
       ".sk-estimator-doc-link.fitted:hover,\n",
       "div.sk-label-container:hover .sk-estimator-doc-link.fitted:hover,\n",
       ".sk-estimator-doc-link.fitted:hover {\n",
       "  /* fitted */\n",
       "  background-color: var(--sklearn-color-fitted-level-3);\n",
       "  color: var(--sklearn-color-background);\n",
       "  text-decoration: none;\n",
       "}\n",
       "\n",
       "/* Span, style for the box shown on hovering the info icon */\n",
       ".sk-estimator-doc-link span {\n",
       "  display: none;\n",
       "  z-index: 9999;\n",
       "  position: relative;\n",
       "  font-weight: normal;\n",
       "  right: .2ex;\n",
       "  padding: .5ex;\n",
       "  margin: .5ex;\n",
       "  width: min-content;\n",
       "  min-width: 20ex;\n",
       "  max-width: 50ex;\n",
       "  color: var(--sklearn-color-text);\n",
       "  box-shadow: 2pt 2pt 4pt #999;\n",
       "  /* unfitted */\n",
       "  background: var(--sklearn-color-unfitted-level-0);\n",
       "  border: .5pt solid var(--sklearn-color-unfitted-level-3);\n",
       "}\n",
       "\n",
       ".sk-estimator-doc-link.fitted span {\n",
       "  /* fitted */\n",
       "  background: var(--sklearn-color-fitted-level-0);\n",
       "  border: var(--sklearn-color-fitted-level-3);\n",
       "}\n",
       "\n",
       ".sk-estimator-doc-link:hover span {\n",
       "  display: block;\n",
       "}\n",
       "\n",
       "/* \"?\"-specific style due to the `<a>` HTML tag */\n",
       "\n",
       "#sk-container-id-1 a.estimator_doc_link {\n",
       "  float: right;\n",
       "  font-size: 1rem;\n",
       "  line-height: 1em;\n",
       "  font-family: monospace;\n",
       "  background-color: var(--sklearn-color-background);\n",
       "  border-radius: 1rem;\n",
       "  height: 1rem;\n",
       "  width: 1rem;\n",
       "  text-decoration: none;\n",
       "  /* unfitted */\n",
       "  color: var(--sklearn-color-unfitted-level-1);\n",
       "  border: var(--sklearn-color-unfitted-level-1) 1pt solid;\n",
       "}\n",
       "\n",
       "#sk-container-id-1 a.estimator_doc_link.fitted {\n",
       "  /* fitted */\n",
       "  border: var(--sklearn-color-fitted-level-1) 1pt solid;\n",
       "  color: var(--sklearn-color-fitted-level-1);\n",
       "}\n",
       "\n",
       "/* On hover */\n",
       "#sk-container-id-1 a.estimator_doc_link:hover {\n",
       "  /* unfitted */\n",
       "  background-color: var(--sklearn-color-unfitted-level-3);\n",
       "  color: var(--sklearn-color-background);\n",
       "  text-decoration: none;\n",
       "}\n",
       "\n",
       "#sk-container-id-1 a.estimator_doc_link.fitted:hover {\n",
       "  /* fitted */\n",
       "  background-color: var(--sklearn-color-fitted-level-3);\n",
       "}\n",
       "</style><div id=\"sk-container-id-1\" class=\"sk-top-container\"><div class=\"sk-text-repr-fallback\"><pre>Pipeline(steps=[(&#x27;preprocessing&#x27;,\n",
       "                 ColumnTransformer(remainder=&#x27;passthrough&#x27;,\n",
       "                                   transformers=[(&#x27;yeo_johnson&#x27;,\n",
       "                                                  PowerTransformer(),\n",
       "                                                  [&#x27;direct_radiation_lag_1h&#x27;,\n",
       "                                                   &#x27;cloud_cover_mid_lag_1h&#x27;,\n",
       "                                                   &#x27;cloud_cover_low_lag_1h&#x27;,\n",
       "                                                   &#x27;vapour_pressure_deficit_lag_1h&#x27;,\n",
       "                                                   &#x27;evapotranspiration_lag_1h&#x27;])])),\n",
       "                (&#x27;scaling&#x27;, RobustScaler()),\n",
       "                (&#x27;standard_model&#x27;,\n",
       "                 LogisticRegression(max_iter=1500, n_jobs=-1,\n",
       "                                    random_state=42))])</pre><b>In a Jupyter environment, please rerun this cell to show the HTML representation or trust the notebook. <br />On GitHub, the HTML representation is unable to render, please try loading this page with nbviewer.org.</b></div><div class=\"sk-container\" hidden><div class=\"sk-item sk-dashed-wrapped\"><div class=\"sk-label-container\"><div class=\"sk-label fitted sk-toggleable\"><input class=\"sk-toggleable__control sk-hidden--visually\" id=\"sk-estimator-id-1\" type=\"checkbox\" ><label for=\"sk-estimator-id-1\" class=\"sk-toggleable__label fitted sk-toggleable__label-arrow fitted\">&nbsp;&nbsp;Pipeline<a class=\"sk-estimator-doc-link fitted\" rel=\"noreferrer\" target=\"_blank\" href=\"https://scikit-learn.org/1.4/modules/generated/sklearn.pipeline.Pipeline.html\">?<span>Documentation for Pipeline</span></a><span class=\"sk-estimator-doc-link fitted\">i<span>Fitted</span></span></label><div class=\"sk-toggleable__content fitted\"><pre>Pipeline(steps=[(&#x27;preprocessing&#x27;,\n",
       "                 ColumnTransformer(remainder=&#x27;passthrough&#x27;,\n",
       "                                   transformers=[(&#x27;yeo_johnson&#x27;,\n",
       "                                                  PowerTransformer(),\n",
       "                                                  [&#x27;direct_radiation_lag_1h&#x27;,\n",
       "                                                   &#x27;cloud_cover_mid_lag_1h&#x27;,\n",
       "                                                   &#x27;cloud_cover_low_lag_1h&#x27;,\n",
       "                                                   &#x27;vapour_pressure_deficit_lag_1h&#x27;,\n",
       "                                                   &#x27;evapotranspiration_lag_1h&#x27;])])),\n",
       "                (&#x27;scaling&#x27;, RobustScaler()),\n",
       "                (&#x27;standard_model&#x27;,\n",
       "                 LogisticRegression(max_iter=1500, n_jobs=-1,\n",
       "                                    random_state=42))])</pre></div> </div></div><div class=\"sk-serial\"><div class=\"sk-item sk-dashed-wrapped\"><div class=\"sk-label-container\"><div class=\"sk-label fitted sk-toggleable\"><input class=\"sk-toggleable__control sk-hidden--visually\" id=\"sk-estimator-id-2\" type=\"checkbox\" ><label for=\"sk-estimator-id-2\" class=\"sk-toggleable__label fitted sk-toggleable__label-arrow fitted\">&nbsp;preprocessing: ColumnTransformer<a class=\"sk-estimator-doc-link fitted\" rel=\"noreferrer\" target=\"_blank\" href=\"https://scikit-learn.org/1.4/modules/generated/sklearn.compose.ColumnTransformer.html\">?<span>Documentation for preprocessing: ColumnTransformer</span></a></label><div class=\"sk-toggleable__content fitted\"><pre>ColumnTransformer(remainder=&#x27;passthrough&#x27;,\n",
       "                  transformers=[(&#x27;yeo_johnson&#x27;, PowerTransformer(),\n",
       "                                 [&#x27;direct_radiation_lag_1h&#x27;,\n",
       "                                  &#x27;cloud_cover_mid_lag_1h&#x27;,\n",
       "                                  &#x27;cloud_cover_low_lag_1h&#x27;,\n",
       "                                  &#x27;vapour_pressure_deficit_lag_1h&#x27;,\n",
       "                                  &#x27;evapotranspiration_lag_1h&#x27;])])</pre></div> </div></div><div class=\"sk-parallel\"><div class=\"sk-parallel-item\"><div class=\"sk-item\"><div class=\"sk-label-container\"><div class=\"sk-label fitted sk-toggleable\"><input class=\"sk-toggleable__control sk-hidden--visually\" id=\"sk-estimator-id-3\" type=\"checkbox\" ><label for=\"sk-estimator-id-3\" class=\"sk-toggleable__label fitted sk-toggleable__label-arrow fitted\">yeo_johnson</label><div class=\"sk-toggleable__content fitted\"><pre>[&#x27;direct_radiation_lag_1h&#x27;, &#x27;cloud_cover_mid_lag_1h&#x27;, &#x27;cloud_cover_low_lag_1h&#x27;, &#x27;vapour_pressure_deficit_lag_1h&#x27;, &#x27;evapotranspiration_lag_1h&#x27;]</pre></div> </div></div><div class=\"sk-serial\"><div class=\"sk-item\"><div class=\"sk-estimator fitted sk-toggleable\"><input class=\"sk-toggleable__control sk-hidden--visually\" id=\"sk-estimator-id-4\" type=\"checkbox\" ><label for=\"sk-estimator-id-4\" class=\"sk-toggleable__label fitted sk-toggleable__label-arrow fitted\">&nbsp;PowerTransformer<a class=\"sk-estimator-doc-link fitted\" rel=\"noreferrer\" target=\"_blank\" href=\"https://scikit-learn.org/1.4/modules/generated/sklearn.preprocessing.PowerTransformer.html\">?<span>Documentation for PowerTransformer</span></a></label><div class=\"sk-toggleable__content fitted\"><pre>PowerTransformer()</pre></div> </div></div></div></div></div><div class=\"sk-parallel-item\"><div class=\"sk-item\"><div class=\"sk-label-container\"><div class=\"sk-label fitted sk-toggleable\"><input class=\"sk-toggleable__control sk-hidden--visually\" id=\"sk-estimator-id-5\" type=\"checkbox\" ><label for=\"sk-estimator-id-5\" class=\"sk-toggleable__label fitted sk-toggleable__label-arrow fitted\">remainder</label><div class=\"sk-toggleable__content fitted\"><pre>[&#x27;month_sin&#x27;, &#x27;month_cos&#x27;, &#x27;temperature_2m_lag_1h&#x27;, &#x27;relative_humidity_2m_lag_1h&#x27;, &#x27;dew_point_2m_lag_1h&#x27;, &#x27;surface_pressure_lag_1h&#x27;, &#x27;wind_speed_10m_lag_1h&#x27;, &#x27;wind_gusts_10m_lag_1h&#x27;, &#x27;soil_temp_0_to_7cm_lag_1h&#x27;, &#x27;soil_moist_0_to_7cm_lag_1h&#x27;]</pre></div> </div></div><div class=\"sk-serial\"><div class=\"sk-item\"><div class=\"sk-estimator fitted sk-toggleable\"><input class=\"sk-toggleable__control sk-hidden--visually\" id=\"sk-estimator-id-6\" type=\"checkbox\" ><label for=\"sk-estimator-id-6\" class=\"sk-toggleable__label fitted sk-toggleable__label-arrow fitted\">passthrough</label><div class=\"sk-toggleable__content fitted\"><pre>passthrough</pre></div> </div></div></div></div></div></div></div><div class=\"sk-item\"><div class=\"sk-estimator fitted sk-toggleable\"><input class=\"sk-toggleable__control sk-hidden--visually\" id=\"sk-estimator-id-7\" type=\"checkbox\" ><label for=\"sk-estimator-id-7\" class=\"sk-toggleable__label fitted sk-toggleable__label-arrow fitted\">&nbsp;RobustScaler<a class=\"sk-estimator-doc-link fitted\" rel=\"noreferrer\" target=\"_blank\" href=\"https://scikit-learn.org/1.4/modules/generated/sklearn.preprocessing.RobustScaler.html\">?<span>Documentation for RobustScaler</span></a></label><div class=\"sk-toggleable__content fitted\"><pre>RobustScaler()</pre></div> </div></div><div class=\"sk-item\"><div class=\"sk-estimator fitted sk-toggleable\"><input class=\"sk-toggleable__control sk-hidden--visually\" id=\"sk-estimator-id-8\" type=\"checkbox\" ><label for=\"sk-estimator-id-8\" class=\"sk-toggleable__label fitted sk-toggleable__label-arrow fitted\">&nbsp;LogisticRegression<a class=\"sk-estimator-doc-link fitted\" rel=\"noreferrer\" target=\"_blank\" href=\"https://scikit-learn.org/1.4/modules/generated/sklearn.linear_model.LogisticRegression.html\">?<span>Documentation for LogisticRegression</span></a></label><div class=\"sk-toggleable__content fitted\"><pre>LogisticRegression(max_iter=1500, n_jobs=-1, random_state=42)</pre></div> </div></div></div></div></div></div>"
      ],
      "text/plain": [
       "Pipeline(steps=[('preprocessing',\n",
       "                 ColumnTransformer(remainder='passthrough',\n",
       "                                   transformers=[('yeo_johnson',\n",
       "                                                  PowerTransformer(),\n",
       "                                                  ['direct_radiation_lag_1h',\n",
       "                                                   'cloud_cover_mid_lag_1h',\n",
       "                                                   'cloud_cover_low_lag_1h',\n",
       "                                                   'vapour_pressure_deficit_lag_1h',\n",
       "                                                   'evapotranspiration_lag_1h'])])),\n",
       "                ('scaling', RobustScaler()),\n",
       "                ('standard_model',\n",
       "                 LogisticRegression(max_iter=1500, n_jobs=-1,\n",
       "                                    random_state=42))])"
      ]
     },
     "execution_count": 19,
     "metadata": {},
     "output_type": "execute_result"
    },
    {
     "name": "stdout",
     "output_type": "stream",
     "text": [
      "Execution time: 1.81 seconds\n",
      "Number of iterations to converge: [106]\n"
     ]
    }
   ],
   "source": [
    "from sklearn.compose import ColumnTransformer\n",
    "from sklearn.preprocessing import PowerTransformer, RobustScaler\n",
    "from sklearn.pipeline import Pipeline\n",
    "from sklearn.linear_model import LogisticRegression\n",
    "\n",
    "# Define the preprocessing step for Yeo-Johnson transformation\n",
    "preprocessor = ColumnTransformer([\n",
    "    ('yeo_johnson', PowerTransformer(method='yeo-johnson'), variables_to_transform),\n",
    "], remainder='passthrough')  # Leave other features untouched\n",
    "\n",
    "# Define the pipeline\n",
    "standard_pipeline = Pipeline([\n",
    "    ('preprocessing', preprocessor),   # Step 1: Yeo-Johnson transformation for specific variables\n",
    "    ('scaling', RobustScaler()),       # Step 2: Scale all features\n",
    "    ('standard_model', LogisticRegression(\n",
    "        max_iter=1500,\n",
    "        random_state=42,\n",
    "        solver='lbfgs',\n",
    "        n_jobs=-1\n",
    "    ))\n",
    "])\n",
    "\n",
    "\n",
    "import time\n",
    "start = time.time()\n",
    "\n",
    "# Step 3: Fit the pipeline to the training data\n",
    "standard_pipeline.fit(X_train, y_train)\n",
    "\n",
    "# Execution time and number of iterations for the solver to converge\n",
    "execution_time = time.time() - start\n",
    "n_iterations = standard_pipeline['standard_model'].n_iter_\n",
    "print(f\"Execution time: {execution_time:.2f} seconds\")\n",
    "print(f\"Number of iterations to converge: {n_iterations}\")"
   ]
  },
  {
   "cell_type": "markdown",
   "id": "1a9fdf63-eef8-464a-9350-1398f44f41e3",
   "metadata": {},
   "source": [
    "- extracting the predicted values of y by passing the test set features (X_test) into the trained model"
   ]
  },
  {
   "cell_type": "code",
   "execution_count": 20,
   "id": "b3d4fcbe-1295-4c2c-940e-76d0a288fd5b",
   "metadata": {},
   "outputs": [],
   "source": [
    "y_pred_standard = standard_pipeline.predict(X_test)"
   ]
  },
  {
   "cell_type": "markdown",
   "id": "4e60b1c6-64a5-4203-9dab-5cca3d92db57",
   "metadata": {},
   "source": [
    "#### **Model Evaluation**"
   ]
  },
  {
   "cell_type": "markdown",
   "id": "a9e33672-97d4-45b4-982a-da93d34d7f75",
   "metadata": {},
   "source": [
    "Before evaluating the model on the test set (the truly *\"unseen\"* data), we will use a 10-fold cross-validation on the train dataset.   \n",
    "This step provides an estimate of the model's performance, consistency, and stability across different subsets of the train data, helping us understand what to expect from the model.   \n",
    "\n",
    "The scoring metric used for assessment is Balanced Accuracy, which is defined as the average recall across all classes. This is particularly useful in heavily imbalanced datasets when the primary concern is ensuring the model correctly identifies actual positive instances for each class, reducing the risk of missing Rain and Snowfall events.   \n",
    "In contrast, F1-macro and PR AUC-macro, which treat all classes equally, can understate overall performance if the model struggles with minority classes. Meanwhile, F1-weighted and PR AUC-weighted tend to be overly optimistic, as they are heavily influenced by the majority class. Balanced Accuracy avoids these pitfalls by focusing explicitly on recall and ensuring that all classes contribute equally to the final score, making it a more reliable metric in this context.\n",
    "\n",
    "You can find more information about the cv evaluation of the train data as well as the most suitable metrics to use in the links below:   \n",
    "https://scikit-learn.org/stable/modules/cross_validation.html   \n",
    "https://scikit-learn.org/stable/modules/model_evaluation.html   \n",
    "https://machinelearningmastery.com/tour-of-evaluation-metrics-for-imbalanced-classification/"
   ]
  },
  {
   "cell_type": "markdown",
   "id": "345f2a34-8fe9-457a-a41c-0b27b3675e0f",
   "metadata": {},
   "source": [
    "##### **CV evaluation**"
   ]
  },
  {
   "cell_type": "markdown",
   "id": "051222da-4858-4a53-b89b-b4f073a8b470",
   "metadata": {},
   "source": [
    "- Setting up a 10-fold cross-validation with stratified sampling to ensure that each fold has the same proportion of classes as the original dataset. Setting the random state to ensure reproducibility."
   ]
  },
  {
   "cell_type": "code",
   "execution_count": 21,
   "id": "c31aff82-99e4-40b6-8080-38fbbd65d3a3",
   "metadata": {},
   "outputs": [],
   "source": [
    "from sklearn.model_selection import StratifiedKFold\n",
    "stkf = StratifiedKFold(n_splits=10, shuffle=True, random_state=42)"
   ]
  },
  {
   "cell_type": "markdown",
   "id": "9c8fc94e-2d1f-4f66-a09c-48c52da64bb2",
   "metadata": {},
   "source": [
    "- run the cv assessment on the train data using the 10-folds created in the previous step. Printing the mean value of the metric across all folds along with its standard deviation."
   ]
  },
  {
   "cell_type": "code",
   "execution_count": 22,
   "id": "7c48844f-13b4-4051-9325-a73506626dd2",
   "metadata": {},
   "outputs": [
    {
     "name": "stdout",
     "output_type": "stream",
     "text": [
      "[0.64805944 0.633016   0.56550416 0.47608515 0.48044167 0.54746472\n",
      " 0.65748447 0.57038859 0.47181831 0.47889566]\n",
      "\n",
      "The mean value of balanced_accuracy is 0.553\n",
      "\n",
      "The standard deviation of balanced_accuracy is 0.071\n"
     ]
    }
   ],
   "source": [
    "from sklearn.model_selection import cross_val_score\n",
    "logreg_standard_cv = cross_val_score(standard_pipeline, X_train, y_train, cv=stkf, scoring='balanced_accuracy', n_jobs=-1)\n",
    "print(logreg_standard_cv)\n",
    "print(f'\\nThe mean value of balanced_accuracy is {logreg_standard_cv.mean().round(3)}')\n",
    "print(f'\\nThe standard deviation of balanced_accuracy is {logreg_standard_cv.std().round(3)}')"
   ]
  },
  {
   "cell_type": "markdown",
   "id": "2f430b85-07a4-4952-8fc3-1af45a0270c3",
   "metadata": {},
   "source": [
    "The cross-validation results indicate that the model consistently performs poorly, likely due to the **unaddressed class imbalance**. We will further explore and justify this observation using the confusion matrix to assess the model's performance on the unseen test dataset across all target classes."
   ]
  },
  {
   "cell_type": "markdown",
   "id": "09f8575d-13f2-4f1d-8c79-580781efb41f",
   "metadata": {},
   "source": [
    "##### **The Confusion Matrix**"
   ]
  },
  {
   "cell_type": "markdown",
   "id": "d47c7583-fed2-4a40-8f72-c1b34f234f87",
   "metadata": {},
   "source": [
    "Generating the confusion matrix to visualize the performance of the model **on the test set** this time.   \n",
    "The confusion matrix shows how well the model predicted each class by displaying the true positive, false positive, true negative, and false negative counts for each class ('No Precipitation', 'Rain', 'Snowfall')."
   ]
  },
  {
   "cell_type": "code",
   "execution_count": 23,
   "id": "7cbbb1ca-2ef9-4f61-b3b8-0d0895c9970a",
   "metadata": {},
   "outputs": [
    {
     "data": {
      "image/png": "[encoded data removed]",
      "text/plain": [
       "<Figure size 500x400 with 2 Axes>"
      ]
     },
     "metadata": {},
     "output_type": "display_data"
    }
   ],
   "source": [
    "import matplotlib.pyplot as plt\n",
    "from sklearn.metrics import ConfusionMatrixDisplay, confusion_matrix\n",
    "conf_matrix_standard = confusion_matrix(y_test, y_pred_standard)\n",
    "fig, ax = plt.subplots(figsize=(5, 4))\n",
    "disp = ConfusionMatrixDisplay(conf_matrix_standard, display_labels=['No Precipitation', 'Rain', 'Snowfall'])\n",
    "plot = disp.plot(ax=ax, cmap=plt.cm.Blues, values_format='d')\n",
    "title = plt.title('Confusion Matrix - Standard Logistic Regression')\n",
    "plt.show()"
   ]
  },
  {
   "cell_type": "markdown",
   "id": "26a0731b-8d41-443d-9ec9-25da6ed98077",
   "metadata": {},
   "source": [
    "It is evident that the severe imbalance in the target classes significantly impacted the model's performance, as seen in the confusion matrix above.   \n",
    "The model performed very well in predicting instances of the majority class ('No Precipitation'), correctly identifying 11812 out of a total of 12025 instances. However, when it came to the minority classes, the model struggled. For 'Rain' events, it correctly predicted less than half of the instances (487 out of 1,103), and for the 'Snowfall' class, the model captured only 4 out of 19 events.   \n",
    "This is a common challenge in classification tasks when dealing with imbalanced datasets, where the model tends to favor the majority class at the expense of the minority classes."
   ]
  },
  {
   "cell_type": "markdown",
   "id": "ebaf1f71-04d9-427a-a462-3c1d22adc3de",
   "metadata": {},
   "source": [
    "- save the confusion matrix for later use"
   ]
  },
  {
   "cell_type": "code",
   "execution_count": 24,
   "id": "37edb459-dbe7-477c-986e-213a67937d8e",
   "metadata": {},
   "outputs": [
    {
     "data": {
      "text/plain": [
       "['../reports/03_standard_logistic_regression_confusion_matrix.joblib']"
      ]
     },
     "execution_count": 24,
     "metadata": {},
     "output_type": "execute_result"
    },
    {
     "name": "stdout",
     "output_type": "stream",
     "text": [
      "Confusion matrix saved at: ../reports/03_standard_logistic_regression_confusion_matrix.joblib\n"
     ]
    }
   ],
   "source": [
    "from joblib import dump\n",
    "\n",
    "# Define the file path\n",
    "conf_matrix_path = \"../reports/03_standard_logistic_regression_confusion_matrix.joblib\"\n",
    "\n",
    "# Save the confusion matrix\n",
    "dump(conf_matrix_standard, conf_matrix_path)\n",
    "\n",
    "print(f\"Confusion matrix saved at: {conf_matrix_path}\")"
   ]
  },
  {
   "cell_type": "markdown",
   "id": "a345ffb2-9118-4cf1-a8d2-502d3b7a165c",
   "metadata": {},
   "source": [
    "##### **The Precision-Recall Curve**"
   ]
  },
  {
   "cell_type": "markdown",
   "id": "d4a85bcf-5b35-4b86-871e-3cda04b5597b",
   "metadata": {},
   "source": [
    "The next step in evaluating the model’s performance on the test set is to compute the Precision-Recall (PR) curve for each class: No Precipitation, Rain, and Snowfall. The PR curve visualizes the trade-off between precision and recall across various probability thresholds, making it a valuable tool for assessing models on imbalanced datasets.\n",
    "\n",
    "This curve is particularly valuable for imbalanced datasets because it highlights how well the model performs on minority classes.   \n",
    "As recall (the proportion of true positive predictions out of all actual positives) increases, the model tends to capture more true positive instances.\n",
    "However, this often comes at the cost of precision (the proportion of true positive predictions out of all predicted positives), as more false positive predictions are introduced."
   ]
  },
  {
   "cell_type": "code",
   "execution_count": 25,
   "id": "7b289d94-6a3d-4c75-b12e-aef5ac85598b",
   "metadata": {},
   "outputs": [
    {
     "data": {
      "image/png": "[encoded data removed]",
      "text/plain": [
       "<Figure size 700x500 with 1 Axes>"
      ]
     },
     "metadata": {},
     "output_type": "display_data"
    }
   ],
   "source": [
    "from sklearn.metrics import precision_recall_curve, auc\n",
    "import matplotlib.pyplot as plt\n",
    "\n",
    "# Predicted probabilities\n",
    "y_pred_probs_standard = standard_pipeline.predict_proba(X_test)\n",
    "\n",
    "# Define class labels\n",
    "class_labels = ['No Precipitation', 'Rain', 'Snowfall']\n",
    "\n",
    "# Plot Precision-Recall curves\n",
    "figure = plt.figure(figsize=(7, 5)) \n",
    "for i, label in enumerate(class_labels):  \n",
    "    precision, recall, _ = precision_recall_curve(y_test == i, y_pred_probs_standard[:, i])\n",
    "    pr_auc = auc(recall, precision)\n",
    "    \n",
    "    # Plot the precision-recall curve\n",
    "    curve_plot = plt.plot(recall, precision, label=f'{label} (PR AUC = {pr_auc:.3f})')\n",
    "\n",
    "# Add labels, title, and legend\n",
    "xlabel = plt.xlabel('Recall')\n",
    "ylabel = plt.ylabel('Precision')\n",
    "title =plt.title('Precision-Recall Curve (Standard Logistic Regression)', fontsize=14)\n",
    "legend = plt.legend(loc='lower left', framealpha=0.35)\n",
    "grid = plt.grid(True)\n",
    "plt.show()"
   ]
  },
  {
   "cell_type": "markdown",
   "id": "296c71a8-00ed-4131-bca9-cf479a485b89",
   "metadata": {},
   "source": [
    "The precision-recall curve highlights the poor performance of the model on the minority classes due to severe class imbalance.\n",
    "\n",
    "While the model performs exceptionally well on 'No Precipitation' instances, this was expected. Even a dummy classifier that always predicts 'No Precipitation' would achieve a precision approximately equal to the majority class proportion (~91.5%). This is a well-known issue in severely imbalanced datasets, where the model becomes heavily biased toward the majority class.\n",
    "\n",
    "However, when it comes to minority classes ('Rain' and 'Snowfall'), the model struggles to classify them correctly. As it attempts to improve recall, the false positives (FPs) increase, leading to a sharp decline in precision. When recall reaches 1 (capturing all minority instances), precision drops to zero, indicating that perfectly capturing the minority classes comes at the cost of excessive misclassifications.\n",
    "\n",
    "This is a classic precision-recall trade-off inherent in imbalanced datasets, and its effects are further amplified as class imbalance becomes more severe. This behavior highlights the importance of balancing precision and recall, to achieve optimal performance for each class."
   ]
  },
  {
   "cell_type": "markdown",
   "id": "0c50dcdf-de25-40af-8aa4-047cf174d130",
   "metadata": {},
   "source": [
    "##### **The Classification Report**"
   ]
  },
  {
   "cell_type": "markdown",
   "id": "db78bc11-b8d8-43f7-bd3e-b0fc5c0b4daa",
   "metadata": {},
   "source": [
    "One more step in evaluating the model is to create a classification report, summarizing key metrics for each class:\n",
    "precision, recall, F1-score, and PR AUC (Precision-Recall Area Under the Curve).\n",
    "The classification report provides a detailed breakdown of these metrics for each class:\n",
    "No Precipitation, Rain, and Snowfall.\n",
    "\n",
    "Additionally, we calculate overall metrics:\n",
    "- balanced_accuracy: more suitable for imbalanced datasets compared to simple accuracy.\n",
    "- f1_macro: calculate the metric for each label and find their unweighted mean. This does not take label imbalance into account.\n",
    "- pr_auc_macro: the unweighted average of the precision-recall AUC scores computed separately for each class, treating all classes equally.\n",
    " \n",
    "We transformed the report to a single-row DataFrame so as to make future comparisons with other models easier."
   ]
  },
  {
   "cell_type": "code",
   "execution_count": 26,
   "id": "efa43baf-5500-4afa-9615-2bf28a1274c7",
   "metadata": {},
   "outputs": [
    {
     "name": "stdout",
     "output_type": "stream",
     "text": [
      "Standard Logistic Regression\n"
     ]
    },
    {
     "data": {
      "text/html": [
       "<div>\n",
       "<style scoped>\n",
       "    .dataframe tbody tr th:only-of-type {\n",
       "        vertical-align: middle;\n",
       "    }\n",
       "\n",
       "    .dataframe tbody tr th {\n",
       "        vertical-align: top;\n",
       "    }\n",
       "\n",
       "    .dataframe thead th {\n",
       "        text-align: right;\n",
       "    }\n",
       "</style>\n",
       "<table border=\"1\" class=\"dataframe\">\n",
       "  <thead>\n",
       "    <tr style=\"text-align: right;\">\n",
       "      <th></th>\n",
       "      <th>precision_0</th>\n",
       "      <th>recall_0</th>\n",
       "      <th>f1_0</th>\n",
       "      <th>pr_auc_0</th>\n",
       "      <th>precision_rain</th>\n",
       "      <th>recall_rain</th>\n",
       "      <th>f1_rain</th>\n",
       "      <th>pr_auc_rain</th>\n",
       "      <th>precision_snow</th>\n",
       "      <th>recall_snow</th>\n",
       "      <th>f1_snow</th>\n",
       "      <th>pr_auc_snow</th>\n",
       "      <th>balanced_accuracy</th>\n",
       "      <th>f1_macro</th>\n",
       "      <th>pr_auc_macro</th>\n",
       "    </tr>\n",
       "  </thead>\n",
       "  <tbody>\n",
       "    <tr>\n",
       "      <th>0</th>\n",
       "      <td>0.9497</td>\n",
       "      <td>0.9823</td>\n",
       "      <td>0.9657</td>\n",
       "      <td>0.9949</td>\n",
       "      <td>0.6879</td>\n",
       "      <td>0.4397</td>\n",
       "      <td>0.5365</td>\n",
       "      <td>0.6419</td>\n",
       "      <td>1.0</td>\n",
       "      <td>0.2105</td>\n",
       "      <td>0.3478</td>\n",
       "      <td>0.6581</td>\n",
       "      <td>0.5442</td>\n",
       "      <td>0.6167</td>\n",
       "      <td>0.767</td>\n",
       "    </tr>\n",
       "  </tbody>\n",
       "</table>\n",
       "</div>"
      ],
      "text/plain": [
       "   precision_0  recall_0    f1_0  pr_auc_0  precision_rain  recall_rain  \\\n",
       "0       0.9497    0.9823  0.9657    0.9949          0.6879       0.4397   \n",
       "\n",
       "   f1_rain  pr_auc_rain  precision_snow  recall_snow  f1_snow  pr_auc_snow  \\\n",
       "0   0.5365       0.6419             1.0       0.2105   0.3478       0.6581   \n",
       "\n",
       "   balanced_accuracy  f1_macro  pr_auc_macro  \n",
       "0             0.5442    0.6167         0.767  "
      ]
     },
     "execution_count": 26,
     "metadata": {},
     "output_type": "execute_result"
    }
   ],
   "source": [
    "from sklearn.metrics import (\n",
    "    classification_report, balanced_accuracy_score, f1_score, \n",
    "    average_precision_score, precision_recall_curve, auc\n",
    ")\n",
    "\n",
    "report_dict_standard = classification_report(y_test, y_pred_standard, digits=3, output_dict=True)\n",
    "y_pred_probs_standard = standard_pipeline.predict_proba(X_test)\n",
    "\n",
    "# Calculate PR AUC for each class\n",
    "precision_0, recall_0, _ = precision_recall_curve(y_test == 0, y_pred_probs_standard[:, 0])\n",
    "pr_auc_0 = auc(recall_0, precision_0)\n",
    "\n",
    "precision_rain, recall_rain, _ = precision_recall_curve(y_test == 1, y_pred_probs_standard[:, 1])\n",
    "pr_auc_rain = auc(recall_rain, precision_rain)\n",
    "\n",
    "precision_snow, recall_snow, _ = precision_recall_curve(y_test == 2, y_pred_probs_standard[:, 2])\n",
    "pr_auc_snow = auc(recall_snow, precision_snow)\n",
    "\n",
    "# Create a single row dataframe with the required metrics\n",
    "report_df_standard = pd.DataFrame({\n",
    "    'precision_0': [report_dict_standard['0']['precision']],\n",
    "    'recall_0': [report_dict_standard['0']['recall']],\n",
    "    'f1_0': [report_dict_standard['0']['f1-score']],\n",
    "    'pr_auc_0': [pr_auc_0],\n",
    "    \n",
    "    'precision_rain': [report_dict_standard['1']['precision']],\n",
    "    'recall_rain': [report_dict_standard['1']['recall']],\n",
    "    'f1_rain': [report_dict_standard['1']['f1-score']],\n",
    "    'pr_auc_rain': [pr_auc_rain],\n",
    "    \n",
    "    'precision_snow': [report_dict_standard['2']['precision']],\n",
    "    'recall_snow': [report_dict_standard['2']['recall']],\n",
    "    'f1_snow': [report_dict_standard['2']['f1-score']],\n",
    "    'pr_auc_snow': [pr_auc_snow],\n",
    "    'balanced_accuracy': [balanced_accuracy_score(y_test, y_pred_standard)],\n",
    "    'f1_macro': [f1_score(y_test, y_pred_standard, average='macro')],\n",
    "    'pr_auc_macro': [average_precision_score(y_test, y_pred_probs_standard, average='macro')]\n",
    "})\n",
    "\n",
    "print('Standard Logistic Regression')\n",
    "report_df_standard = report_df_standard.round(4)\n",
    "report_df_standard"
   ]
  },
  {
   "cell_type": "markdown",
   "id": "681abeaa-0c39-4578-9629-7def8080c481",
   "metadata": {},
   "source": [
    "- save the metrics report for later use"
   ]
  },
  {
   "cell_type": "code",
   "execution_count": 27,
   "id": "45fab115-8eb1-440c-b871-ae7a542650d9",
   "metadata": {},
   "outputs": [
    {
     "data": {
      "text/plain": [
       "['../reports/03_standard_logistic_regression_report.joblib']"
      ]
     },
     "execution_count": 27,
     "metadata": {},
     "output_type": "execute_result"
    },
    {
     "name": "stdout",
     "output_type": "stream",
     "text": [
      "Metrics report saved at: ../reports/03_standard_logistic_regression_report.joblib\n"
     ]
    }
   ],
   "source": [
    "# Define the file path\n",
    "report_path = \"../reports/03_standard_logistic_regression_report.joblib\"\n",
    "\n",
    "# Save the report DataFrame\n",
    "dump(report_df_standard, report_path)\n",
    "\n",
    "print(f\"Metrics report saved at: {report_path}\")"
   ]
  },
  {
   "cell_type": "markdown",
   "id": "e7ef9a72-d20a-4488-9ec2-47309746f490",
   "metadata": {},
   "source": [
    "##### **The learning curve**"
   ]
  },
  {
   "cell_type": "markdown",
   "id": "bb75b749-e691-475f-82ab-278768e2259f",
   "metadata": {},
   "source": [
    "Before interpreting a learning curve to gain insights into a model's performance, we must first understand what it represents.\n",
    "\n",
    "A learning curve illustrates how a model's performance evolves as the dataset size increases, helping us diagnose underfitting, overfitting, and generalization ability. In our case, we use log-loss to track how the error in predictions changes as more training data is provided.\n",
    "\n",
    "Each point on the curve represents the average performance across cross-validation folds for a specific training size, offering an estimate of how well the model performs with different data volumes. This allows us to observe whether model performance improves, deteriorates, or plateaus with additional data.\n",
    "\n",
    "In the plot, we have two curves: one (yellow) represents the average metric score on the training dataset, and the other (purple) represents the average metric score on the validation/test dataset.   \n",
    "- If both curves are low relative to the y-axis and close to each other, the model may not be complex enough to capture data patterns and is likely underfitting.\n",
    "- If the training curve is high but the validation curve is low, the model might be memorizing the training data without generalizing well, indicating overfitting.\n",
    "- If both curves converge at a high level, the model is likely to perform well and generalizing effectively.\n",
    "\n",
    "It is also important to observe whether the curves increase, plateau, or fluctuate as more data is fed to the model, as this indicates how additional data impacts performance.\n",
    "\n",
    "Finally, you shouldn’t expect the performance metric on the test set from stratified cross-validation on the full dataset to exactly match the final point on the learning curve. Due to data randomness and differences in train-validation splits, the training and validation sets in the final point of the learning curve may differ from those used in a cross-validation on the full dataset, leading to slight variations in metric results. The learning curve’s final point represents the average of cross-validated scores across multiple folds, while the test set score is a single evaluation on a fixed data split.\n",
    "\n",
    "However, if the difference between the two metrics is significant, it’s worth investigating further. Potential issues could include model instability due to high complexity, overfitting to specific patterns in the data and more."
   ]
  },
  {
   "cell_type": "code",
   "execution_count": 28,
   "id": "fed31d5d-3253-44e3-a747-65747a9f3ac9",
   "metadata": {},
   "outputs": [
    {
     "data": {
      "image/png": "[encoded data removed]",
      "text/plain": [
       "<Figure size 1000x600 with 1 Axes>"
      ]
     },
     "metadata": {},
     "output_type": "display_data"
    }
   ],
   "source": [
    "import numpy as np\n",
    "from sklearn.model_selection import StratifiedKFold\n",
    "stkf = StratifiedKFold(n_splits=10, shuffle=True, random_state=42)\n",
    "\n",
    "from sklearn.model_selection import learning_curve\n",
    "train_sizes, train_scores, test_scores = learning_curve(\n",
    "    standard_pipeline, X, y, cv=stkf, scoring='neg_log_loss', n_jobs=-1,\n",
    "    train_sizes=np.linspace(0.1, 1.0, 10), shuffle=True, random_state=42\n",
    ")\n",
    "\n",
    "train_mean = -np.mean(train_scores, axis=1)\n",
    "train_std = np.std(train_scores, axis=1)\n",
    "test_mean = -np.mean(test_scores, axis=1)\n",
    "test_std = np.std(test_scores, axis=1)\n",
    "\n",
    "figure = plt.figure(figsize=(10, 6))\n",
    "plot1 = plt.plot(train_sizes, train_mean, label='Training Score', color='yellow')\n",
    "plot2 = plt.plot(train_sizes, test_mean, label='Validation Score', color='blue', linestyle=':')\n",
    "ce1_fill = plt.fill_between(train_sizes, train_mean - train_std, train_mean + train_std, color='yellow', \n",
    "                            alpha=0.15, label='Training Variability')\n",
    "ce2_fill = plt.fill_between(train_sizes, test_mean - test_std, test_mean + test_std, color='blue',\n",
    "                            alpha=0.15, label='Validation Variability')\n",
    "\n",
    "xlabel = plt.xlabel('Training Set Size')\n",
    "ylabel = plt.ylabel('Log-Loss (Cross-entropy)')\n",
    "title = plt.title('Log-Loss Learning Curve - Logistic Regression')\n",
    "legend = plt.legend(loc='lower right', framealpha=0.35)\n",
    "grid = plt.grid(True)\n",
    "plt.tight_layout()\n",
    "plt.show()"
   ]
  },
  {
   "cell_type": "markdown",
   "id": "8a872a7e-32e8-4478-bbe8-88aed4726875",
   "metadata": {},
   "source": [
    "<u>Inferences from the Learning Curve Plot</u>   \n",
    "\n",
    "The log-loss of the training and validation sets converge and plateau around 0.149, when the full dataset is used to train the model. The small gap between the two curves indicates no signs of overfitting, suggesting that the model is well-calibrated to the data, but further improvement are not expected.\n",
    "\n",
    "The noticeable variance in validation loss, indicates that the performance varies across different validation splits, and suggests that the model struggles to generalize consistently on unseen data. This could be due to data complexity and severe class imbalance."
   ]
  },
  {
   "cell_type": "markdown",
   "id": "20ccc44e-cfd5-4b30-9894-2dd5c701d475",
   "metadata": {},
   "source": [
    "**Save the Trained Model**"
   ]
  },
  {
   "cell_type": "code",
   "execution_count": 29,
   "id": "89d26f5e-837d-402f-a2a8-62dc2b942029",
   "metadata": {},
   "outputs": [
    {
     "data": {
      "text/plain": [
       "['../models/standard_logistic_regression.joblib']"
      ]
     },
     "execution_count": 29,
     "metadata": {},
     "output_type": "execute_result"
    },
    {
     "name": "stdout",
     "output_type": "stream",
     "text": [
      "Standard Logistic Regression model saved at: ../models/standard_logistic_regression.joblib\n"
     ]
    }
   ],
   "source": [
    "# Define the file path\n",
    "model_path = \"../models/standard_logistic_regression.joblib\"\n",
    "\n",
    "# Save the entire pipeline\n",
    "dump(standard_pipeline, model_path)\n",
    "\n",
    "print(f\"Standard Logistic Regression model saved at: {model_path}\")"
   ]
  }
 ],
 "metadata": {
  "kernelspec": {
   "display_name": "Python 3 (ipykernel)",
   "language": "python",
   "name": "python3"
  },
  "language_info": {
   "codemirror_mode": {
    "name": "ipython",
    "version": 3
   },
   "file_extension": ".py",
   "mimetype": "text/x-python",
   "name": "python",
   "nbconvert_exporter": "python",
   "pygments_lexer": "ipython3",
   "version": "3.10.16"
  }
 },
 "nbformat": 4,
 "nbformat_minor": 5
}
