{
 "cells": [
  {
   "cell_type": "markdown",
   "id": "c8f02e73-a7b8-4705-98c6-ac0def943960",
   "metadata": {},
   "source": [
    "# **Multinomial Logistic Regression with scikit-learn**"
   ]
  },
  {
   "cell_type": "markdown",
   "id": "a9461e69-1c37-44c1-97f1-5c76c719e61b",
   "metadata": {},
   "source": [
    "Author: Nikos Papakostas   \n",
    "Created: November 2024  \n",
    "GitHub: https://github.com/papaknik  \n",
    "LinkedIn: https://www.linkedin.com/in/nikos-papakostas/"
   ]
  },
  {
   "cell_type": "code",
   "execution_count": 1,
   "id": "a4d86201-e90f-4616-a85b-3d229d817256",
   "metadata": {},
   "outputs": [],
   "source": [
    "from IPython.core.interactiveshell import InteractiveShell\n",
    "InteractiveShell.ast_node_interactivity = \"all\"\n",
    "import pandas as pd\n",
    "import numpy as np\n",
    "import matplotlib.pyplot as plt\n",
    "import seaborn as sns\n",
    "import scipy             \n",
    "import sklearn\n",
    "import imblearn\n",
    "import joblib\n",
    "import openmeteo_requests\n",
    "import requests_cache\n",
    "import retry_requests\n",
    "import json\n",
    "import skopt\n",
    "import watermark\n",
    "%load_ext watermark"
   ]
  },
  {
   "cell_type": "code",
   "execution_count": 2,
   "id": "47a47f6b-3476-471a-90df-efce177a14ec",
   "metadata": {},
   "outputs": [
    {
     "name": "stdout",
     "output_type": "stream",
     "text": [
      "Last updated: 2025-02-17T14:00:09.313266+02:00\n",
      "\n",
      "Python implementation: CPython\n",
      "Python version       : 3.12.9\n",
      "IPython version      : 8.30.0\n",
      "\n",
      "Compiler    : MSC v.1929 64 bit (AMD64)\n",
      "OS          : Windows\n",
      "Release     : 11\n",
      "Machine     : AMD64\n",
      "Processor   : AMD64 Family 25 Model 80 Stepping 0, AuthenticAMD\n",
      "CPU cores   : 16\n",
      "Architecture: 64bit\n",
      "\n"
     ]
    }
   ],
   "source": [
    "%watermark"
   ]
  },
  {
   "cell_type": "code",
   "execution_count": 3,
   "id": "92960f08-c25e-42f5-af33-cfc9bb204426",
   "metadata": {},
   "outputs": [
    {
     "name": "stdout",
     "output_type": "stream",
     "text": [
      "Python implementation: CPython\n",
      "Python version       : 3.12.9\n",
      "IPython version      : 8.30.0\n",
      "\n"
     ]
    }
   ],
   "source": [
    "%watermark -v"
   ]
  },
  {
   "cell_type": "code",
   "execution_count": 4,
   "id": "d3f856f8-4a00-44ba-93da-59fbc4a9807f",
   "metadata": {},
   "outputs": [
    {
     "name": "stdout",
     "output_type": "stream",
     "text": [
      "retry_requests    : 2.0.0\n",
      "sklearn           : 1.6.1\n",
      "skopt             : 0.10.2\n",
      "requests_cache    : 1.2.1\n",
      "pandas            : 2.2.3\n",
      "seaborn           : 0.13.2\n",
      "watermark         : 2.5.0\n",
      "numpy             : 2.2.2\n",
      "json              : 2.0.9\n",
      "IPython           : 8.30.0\n",
      "matplotlib        : 3.10.0\n",
      "joblib            : 1.4.2\n",
      "openmeteo_requests: 1.3.0\n",
      "imblearn          : 0.0\n",
      "scipy             : 1.15.1\n",
      "\n"
     ]
    }
   ],
   "source": [
    "%watermark --iversions"
   ]
  },
  {
   "cell_type": "markdown",
   "id": "e432d3bb-f4bb-4339-a142-f18198ae3c56",
   "metadata": {},
   "source": [
    "## **Introduction**"
   ]
  },
  {
   "cell_type": "markdown",
   "id": "bc5e7fc2-38ab-4b66-8fb2-38887f3de95c",
   "metadata": {},
   "source": [
    "This practice project utilizes data extracted from the Open-Meteo Historical Weather API to construct a Multinomial Classification problem.   \n",
    "The dataset contains numerical weather attributes as independent variables, and we aim to predict a categorical target variable named 'weather_event', which can take the following values:\n",
    "\n",
    "    0: No precipitation\n",
    "    1: Rain event\n",
    "    2: Snowfall event  \n",
    "    \n",
    "The major challenge of this project is the complete lack of Domain Knowledge which is a key asset in any machine learning project.  \n",
    "With limited time for subject research, I followed two simple steps:\n",
    "1. Research similar machine learning tasks: I searched online for related ML projects to identify commonly used weather variables that could serve as predictors.\n",
    "2. Logical reasoning: Before attempting to predict an event you first must be able to describe it. I considered how weather is usually described in forecasts, focusing on attributes like temperature, wind, humidity, and precipitation likelihood.\n",
    "\n",
    "The dataset includes historical weather data from 2019 to 2023 for the center of Athens, Greece, and will serve as a practice set for multinomial classification. Our goal is to predict whether there will be no precipitation, rain, or snow at the specified location, utilizing Logistic Regression algorithm.   \n",
    "In subsequent notebooks, we will explore different algorithms to tackle this problem.\n",
    "\n",
    "**<u> Important note</u>**   \n",
    "This project does not aim to replicate professional weather forecasting, where advanced numerical simulations and physical models are applied.   \n",
    "These models rely on complex simulations of atmospheric processes and can predict future values for key weather variables over time, while in this project our predictive modeling will be based purely on historical data."
   ]
  },
  {
   "cell_type": "markdown",
   "id": "6391bc6f-fa68-429a-9438-e8c67cdb062b",
   "metadata": {},
   "source": [
    "### Dataset Description"
   ]
  },
  {
   "cell_type": "markdown",
   "id": "d7161a25-1315-4db5-989d-f03fd7da325f",
   "metadata": {},
   "source": [
    "- temperature_2m: Represents the air temperature measured at a height of 2 meters above the ground. This is a standard height for temperature observations in weather forecasting.\n",
    "\n",
    "- relative_humidity_2m: Measures the percentage of moisture in the air relative to the maximum amount of moisture the air can hold at the same temperature.\n",
    "\n",
    "- dew_point_2m: Indicates the temperature at which air becomes saturated with moisture and condensation begins, leading to the formation of dew, fog, or clouds.\n",
    "\n",
    "- rain: This variable measures the precipitation from rain, typically expressed in millimeters (mm). It represents the amount of rainfall over a certain period (e.g., hourly). Higher values indicate heavier rainfall.\n",
    "\n",
    "- snowfall: This variable records the amount of precipitation in the form of snow, also generally measured in millimeters (mm). Like rain, it provides insight into the accumulation of snow over time.\n",
    "\n",
    "- surface_pressure: Refers to the atmospheric pressure exerted at the Earth's surface, typically measured in hectopascals (hPa). It is crucial for determining weather conditions like high and low-pressure systems.\n",
    "\n",
    "- cloud_cover_low & cloud_cover_mid: Represents the percentage of the sky covered by low-level and mid-level clouds. Low clouds form close to the ground, while mid clouds occur higher up in the atmosphere.\n",
    "\n",
    "- evapotranspiration: Reflects the combined process of water evaporation from the surface and transpiration from plants. It is used to estimate water loss in ecosystems.\n",
    "\n",
    "- vapour_pressure_deficit: Represents the difference between the amount of moisture in the air and how much moisture the air can hold when it is saturated. It’s often used to assess plant water stress.\n",
    "\n",
    "- wind_speed_10m: Measures the wind velocity at a height of 10 meters above the surface, which is the standard height for wind observations.\n",
    "\n",
    "- wind_gusts_10m: Indicates the sudden, short-term increases in wind speed at 10 meters above the surface, which can impact weather severity.\n",
    "\n",
    "- soil_temp_0_to_7cm: Measures the temperature of the soil in the top 7 cm layer, which is important for agriculture and assessing soil conditions.\n",
    "\n",
    "- soil_moist_0_to_7cm: Reflects the water content in the top 7 cm of soil, important for understanding drought conditions and plant water availability.\n",
    "\n",
    "- direct_radiation: Measures the amount of solar radiation received by the Earth’s surface directly from the sun, without scattering by clouds or the atmosphere. This is important for energy balance calculations.\n",
    "\n",
    "Detailed information about the selected variables, as well as all available options, can be found **[here](https://open-meteo.com/en/docs/historical-forecast-api#start_date=2024-09-30).**"
   ]
  },
  {
   "cell_type": "markdown",
   "id": "3317531e-bed3-4528-8dd8-970bc2e12bbc",
   "metadata": {},
   "source": [
    "### Scraping with Open-Meteo API"
   ]
  },
  {
   "cell_type": "markdown",
   "id": "8726d141-433f-48b2-956e-3a765e593256",
   "metadata": {},
   "source": [
    "Scraping data using the Open-Meteo Historical Forecast API is a simple process that can be completed in just a few steps.\n",
    "First, ensure that the required Python `openmeteo_requests`, `requests_cache` and `retry_requests` modules are installed in your environment.   \n",
    "If not, try running the following commands:   \n",
    "`pip install openmeteo_requests`   \n",
    "`pip install requests_cache` and   \n",
    "`pip install retry_requests`   \n",
    "\n",
    "Once the modules are installed, follow these steps:\n",
    "\n",
    "- <u>Navigate to the Open-Meteo Historical Weather API documentation, **[here](https://open-meteo.com/en/docs/historical-forecast-api#start_date=2024-09-30)</u>**\n",
    "- Select the coordinates of the desired location (e.g., a city or a specific latitude and longitude).\n",
    "- Choose the time interval by setting the Start Date and End Date.\n",
    "- Pick the parameters (e.g., temperature, precipitation, wind speed) that you are interested in.\n",
    "\n",
    "The API will generate a Python code snippet for you. Copy and paste this snippet into your notebook or script, and you are all set to start scraping data!"
   ]
  },
  {
   "cell_type": "markdown",
   "id": "23a7dfcf-aec4-41ef-9a26-02eeb5c8bbd2",
   "metadata": {},
   "source": [
    "**You can skip the following step and use directly the csv file that can be found in the `/data` folder of the repository in [GitHub](https://github.com/papaknik/Multinomial-Logistic-Regression-with-scikit-learn).**"
   ]
  },
  {
   "cell_type": "code",
   "execution_count": 21,
   "id": "74fcdead-5375-464c-a9b2-4e4d39ba2ce4",
   "metadata": {},
   "outputs": [
    {
     "name": "stdout",
     "output_type": "stream",
     "text": [
      "Coordinates 37.996482849121094°N 23.70967674255371°E\n",
      "Elevation 92.0 m asl\n",
      "Timezone b'Europe/Athens' b'GMT+2'\n",
      "Timezone difference to GMT+0 7200 s\n",
      "<class 'pandas.core.frame.DataFrame'>\n",
      "RangeIndex: 43824 entries, 0 to 43823\n",
      "Data columns (total 16 columns):\n",
      " #   Column                   Non-Null Count  Dtype              \n",
      "---  ------                   --------------  -----              \n",
      " 0   date                     43824 non-null  datetime64[ns, UTC]\n",
      " 1   temperature_2m           43824 non-null  float32            \n",
      " 2   relative_humidity_2m     43824 non-null  float32            \n",
      " 3   dew_point_2m             43824 non-null  float32            \n",
      " 4   rain                     43824 non-null  float32            \n",
      " 5   snowfall                 43824 non-null  float32            \n",
      " 6   surface_pressure         43824 non-null  float32            \n",
      " 7   cloud_cover_low          43824 non-null  float32            \n",
      " 8   cloud_cover_mid          43824 non-null  float32            \n",
      " 9   evapotranspiration       43824 non-null  float32            \n",
      " 10  vapour_pressure_deficit  43824 non-null  float32            \n",
      " 11  wind_speed_10m           43824 non-null  float32            \n",
      " 12  wind_gusts_10m           43824 non-null  float32            \n",
      " 13  soil_temp_0_to_7cm       43824 non-null  float32            \n",
      " 14  soil_moist_0_to_7cm      43824 non-null  float32            \n",
      " 15  direct_radiation         43824 non-null  float32            \n",
      "dtypes: datetime64[ns, UTC](1), float32(15)\n",
      "memory usage: 2.8 MB\n"
     ]
    }
   ],
   "source": [
    "import openmeteo_requests\n",
    "import requests_cache\n",
    "from retry_requests import retry\n",
    "\n",
    "# Setup the Open-Meteo API client with cache and retry on error\n",
    "cache_session = requests_cache.CachedSession('.cache', expire_after = -1)\n",
    "retry_session = retry(cache_session, retries = 5, backoff_factor = 0.2)\n",
    "openmeteo = openmeteo_requests.Client(session = retry_session)\n",
    "\n",
    "# Make sure all required weather variables are listed here\n",
    "# The order of variables in hourly or daily is important to assign them correctly below\n",
    "url = \"https://archive-api.open-meteo.com/v1/archive\"\n",
    "params = {\n",
    "\t\"latitude\": 37.9838,\n",
    "\t\"longitude\": 23.7278,\n",
    "\t\"start_date\": \"2019-01-01\",\n",
    "\t\"end_date\": \"2023-12-31\",\n",
    "\t\"hourly\": [\"temperature_2m\", \"relative_humidity_2m\", \"dew_point_2m\", \"rain\", \"snowfall\", \n",
    "               \"surface_pressure\", \"cloud_cover_low\", \"cloud_cover_mid\", \"et0_fao_evapotranspiration\", \n",
    "               \"vapour_pressure_deficit\", \"wind_speed_10m\", \"wind_gusts_10m\", \"soil_temperature_0_to_7cm\", \n",
    "               \"soil_moisture_0_to_7cm\", \"direct_radiation\"],\n",
    "\t\"timezone\": \"auto\"\n",
    "}\n",
    "responses = openmeteo.weather_api(url, params=params)\n",
    "\n",
    "# Process first location. Add a for-loop for multiple locations or weather models\n",
    "response = responses[0]\n",
    "print(f\"Coordinates {response.Latitude()}°N {response.Longitude()}°E\")\n",
    "print(f\"Elevation {response.Elevation()} m asl\")\n",
    "print(f\"Timezone {response.Timezone()} {response.TimezoneAbbreviation()}\")\n",
    "print(f\"Timezone difference to GMT+0 {response.UtcOffsetSeconds()} s\")\n",
    "\n",
    "# Process hourly data. The order of variables needs to be the same as requested.\n",
    "hourly = response.Hourly()\n",
    "hourly_temperature_2m = hourly.Variables(0).ValuesAsNumpy()\n",
    "hourly_relative_humidity_2m = hourly.Variables(1).ValuesAsNumpy()\n",
    "hourly_dew_point_2m = hourly.Variables(2).ValuesAsNumpy()\n",
    "hourly_rain = hourly.Variables(3).ValuesAsNumpy()\n",
    "hourly_snowfall = hourly.Variables(4).ValuesAsNumpy()\n",
    "hourly_surface_pressure = hourly.Variables(5).ValuesAsNumpy()\n",
    "hourly_cloud_cover_low = hourly.Variables(6).ValuesAsNumpy()\n",
    "hourly_cloud_cover_mid = hourly.Variables(7).ValuesAsNumpy()\n",
    "hourly_et0_fao_evapotranspiration = hourly.Variables(8).ValuesAsNumpy()\n",
    "hourly_vapour_pressure_deficit = hourly.Variables(9).ValuesAsNumpy()\n",
    "hourly_wind_speed_10m = hourly.Variables(10).ValuesAsNumpy()\n",
    "hourly_wind_gusts_10m = hourly.Variables(11).ValuesAsNumpy()\n",
    "hourly_soil_temperature_0_to_7cm = hourly.Variables(12).ValuesAsNumpy()\n",
    "hourly_soil_moisture_0_to_7cm = hourly.Variables(13).ValuesAsNumpy()\n",
    "hourly_direct_radiation = hourly.Variables(14).ValuesAsNumpy()\n",
    "\n",
    "hourly_data = {\"date\": pd.date_range(\n",
    "\tstart = pd.to_datetime(hourly.Time(), unit = \"s\", utc = True),\n",
    "\tend = pd.to_datetime(hourly.TimeEnd(), unit = \"s\", utc = True),\n",
    "\tfreq = pd.Timedelta(seconds = hourly.Interval()),\n",
    "\tinclusive = \"left\"\n",
    ")}\n",
    "hourly_data[\"temperature_2m\"] = hourly_temperature_2m\n",
    "hourly_data[\"relative_humidity_2m\"] = hourly_relative_humidity_2m\n",
    "hourly_data[\"dew_point_2m\"] = hourly_dew_point_2m\n",
    "hourly_data[\"rain\"] = hourly_rain\n",
    "hourly_data[\"snowfall\"] = hourly_snowfall\n",
    "hourly_data[\"surface_pressure\"] = hourly_surface_pressure\n",
    "hourly_data[\"cloud_cover_low\"] = hourly_cloud_cover_low\n",
    "hourly_data[\"cloud_cover_mid\"] = hourly_cloud_cover_mid\n",
    "hourly_data[\"evapotranspiration\"] = hourly_et0_fao_evapotranspiration\n",
    "hourly_data[\"vapour_pressure_deficit\"] = hourly_vapour_pressure_deficit\n",
    "hourly_data[\"wind_speed_10m\"] = hourly_wind_speed_10m\n",
    "hourly_data[\"wind_gusts_10m\"] = hourly_wind_gusts_10m\n",
    "hourly_data[\"soil_temp_0_to_7cm\"] = hourly_soil_temperature_0_to_7cm\n",
    "hourly_data[\"soil_moist_0_to_7cm\"] = hourly_soil_moisture_0_to_7cm\n",
    "hourly_data[\"direct_radiation\"] = hourly_direct_radiation\n",
    "\n",
    "df = pd.DataFrame(data = hourly_data)\n",
    "df.info()"
   ]
  },
  {
   "cell_type": "markdown",
   "id": "60dec691-50bc-4a44-bd0a-befd4d25c9e3",
   "metadata": {},
   "source": [
    "### Creating the multiclass target variable"
   ]
  },
  {
   "cell_type": "markdown",
   "id": "1b7c483a-a769-493a-973c-0c114a91a1b6",
   "metadata": {},
   "source": [
    "The first step is to create the target variable 'weather_event' for our multi-class classification problem.   \n",
    "We create a new column called 'weather_event' with the following rules:\n",
    "\n",
    "    0: When both the 'rain' and 'snowfall' variables are 0 (indicating no precipitation).\n",
    "    1: When the 'rain' variable is greater than 0 and the 'snowfall' variable is 0 (indicating a rain event).\n",
    "    2: When the 'snowfall' variable is greater than 0 and the 'rain' variable is 0 (indicating a snowfall event).\n",
    "\n",
    "Occasionally, there are some rare instances over the 5-year period where both rain and snowfall occurred within the same hour. In these cases, we assign to 'weather_event', the value based on which variable has the higher precipitation (rain or snowfall), ensuring that the most significant weather event is captured."
   ]
  },
  {
   "cell_type": "code",
   "execution_count": 22,
   "id": "20950e90-2e23-4567-b03d-5051e586cd0d",
   "metadata": {},
   "outputs": [],
   "source": [
    "# Define the conditions\n",
    "conditions = [\n",
    "    (df['rain'] > 0) & (df['snowfall'] > 0),   # Both rain and snowfall\n",
    "    (df['rain'] > 0) & (df['snowfall'] == 0),  # Only rain\n",
    "    (df['snowfall'] > 0) & (df['rain'] == 0)   # Only snowfall\n",
    "]\n",
    "\n",
    "# Define the values for each condition\n",
    "values = [\n",
    "    np.where(df['rain'] > df['snowfall'], 1, 2),  # Choose rain if higher, otherwise snowfall\n",
    "    1,  # Only rain\n",
    "    2   # Only snowfall\n",
    "]\n",
    "\n",
    "# Use np.select to create the 'weather_event' column\n",
    "df['weather_event'] = np.select(conditions, values, default=0)  # Default is 0 for no precipitation"
   ]
  },
  {
   "cell_type": "markdown",
   "id": "3aa0d95e-0e8d-4875-ac95-d3b51270caea",
   "metadata": {},
   "source": [
    "Removing the columns 'rain' and 'snowfall' since they are no longer needed after the creation of the target variable"
   ]
  },
  {
   "cell_type": "code",
   "execution_count": 23,
   "id": "89341ccd-63b0-4169-a72f-373512383dd2",
   "metadata": {},
   "outputs": [],
   "source": [
    "df = df.drop(columns=['rain', 'snowfall'])"
   ]
  },
  {
   "cell_type": "markdown",
   "id": "cd2da4e2-97e5-440f-9bfb-02fe7852e6d7",
   "metadata": {},
   "source": [
    "### Adding a time related variable in the dataset"
   ]
  },
  {
   "cell_type": "markdown",
   "id": "1d85d621-9431-4bf7-8903-4d1e1d178857",
   "metadata": {},
   "source": [
    "Everyone knows from life experience that weather is closely tied to seasons, meaning that the likelihood of a 'snowfall' event is much higher during winter months, or that the likelihood of 'rain' is expected to be lower during the months of July and August *(at least up to most recent years...)*.   \n",
    "Considering this, the addition of the month as a numerical variable (ranging from 1 to 12), can be a valuable addition to the dataset, and we expect it to have significant predictive power in the models we build."
   ]
  },
  {
   "cell_type": "code",
   "execution_count": 24,
   "id": "dcc4313e-d5f5-48d2-b76d-266979d000c2",
   "metadata": {},
   "outputs": [],
   "source": [
    "df['month'] = df['date'].dt.month"
   ]
  },
  {
   "cell_type": "markdown",
   "id": "671eac9c-90ef-4582-8b42-757c6c7a66c5",
   "metadata": {},
   "source": [
    "But when plotting the month, we see something strange on the plot. While the months from 1 (January) to 12 (December) escalate sequentially by a step of 1, when reaching 12, the plot jumps back to 1 and repeats the same pattern.  This means that encoding the month variable by a strict integer with a step of 1 exhibits a discontinuity when reaching December in every year of the dataframe. So, in the months of December and January while they should have a distance of 1 as all other consecutive months exhibit, their difference with the simple integer encoding is 11 (12-1)!\n",
    "This is well known for all features that exhibit a cyclical behavior by nature and must be handled before modeling, in order to help the model interpret the influence of the 'month' variable on the result (predicting the target variable) more efficiently."
   ]
  },
  {
   "cell_type": "code",
   "execution_count": 25,
   "id": "c762eaca-d8eb-4d0c-96af-24e0399e7229",
   "metadata": {},
   "outputs": [
    {
     "data": {
      "image/png": "[encoded data removed]",
      "text/plain": [
       "<Figure size 640x480 with 1 Axes>"
      ]
     },
     "metadata": {},
     "output_type": "display_data"
    }
   ],
   "source": [
    "ax = df['month'].plot()"
   ]
  },
  {
   "cell_type": "markdown",
   "id": "1ddfa2d3-6327-4b57-8fcb-dee8a5d5408d",
   "metadata": {},
   "source": [
    "We can encode the `month` variable so as to capture its cyclical behavior and eliminate the discontinuity observed between months of December and January.   \n",
    "You can find more information on encoding cyclical features for ML modeling purposes in the link below:   \n",
    "https://feature-engine.trainindata.com/en/1.7.x/user_guide/creation/CyclicalFeatures.html"
   ]
  },
  {
   "cell_type": "code",
   "execution_count": 26,
   "id": "1b9e2182-0736-4236-bfec-f3578349bb71",
   "metadata": {},
   "outputs": [],
   "source": [
    "# Applying sin and cosine transformation on the  variable\n",
    "df['month_sin'] = np.round(np.sin(2 * np.pi * df['month'] / 12), decimals=3)\n",
    "df['month_cos'] = np.round(np.cos(2 * np.pi * df['month'] / 12), decimals=3)"
   ]
  },
  {
   "cell_type": "markdown",
   "id": "42a60884-6829-4a1a-a0a3-98675dd2e94b",
   "metadata": {},
   "source": [
    "We can plot the sin and cosine transformations of the variable `month` and see that the discontinuity has been eliminated. The values on the y-axis for the transformed `month` variable in January (1) and December (12) are much closer than in the case of the absolute integer encoding."
   ]
  },
  {
   "cell_type": "code",
   "execution_count": 27,
   "id": "df1224ee-6189-4779-adb5-df6673a5e54c",
   "metadata": {},
   "outputs": [
    {
     "data": {
      "image/png": "[encoded data removed]",
      "text/plain": [
       "<Figure size 640x480 with 1 Axes>"
      ]
     },
     "metadata": {},
     "output_type": "display_data"
    }
   ],
   "source": [
    "plot = plt.scatter(df[\"month\"], df[\"month_sin\"])\n",
    "vline1 = plt.vlines(x=1, ymin=-1, ymax=1, color='g', linestyles='dashed')\n",
    "vline2 = plt.vlines(x=12, ymin=-1, ymax=1, color='g', linestyles='dashed')\n",
    "# Axis labels\n",
    "ylabel = plt.ylabel('Sine of month')\n",
    "xlabel = plt.xlabel('month')\n",
    "title = plt.title('Sine transformation')"
   ]
  },
  {
   "cell_type": "code",
   "execution_count": 28,
   "id": "e953515d-f015-4b9c-bb88-2a47a2ee9ee4",
   "metadata": {},
   "outputs": [
    {
     "data": {
      "image/png": "[encoded data removed]",
      "text/plain": [
       "<Figure size 640x480 with 1 Axes>"
      ]
     },
     "metadata": {},
     "output_type": "display_data"
    }
   ],
   "source": [
    "plot = plt.scatter(df[\"month\"], df[\"month_cos\"])\n",
    "vline1 = plt.vlines(x=1, ymin=-1, ymax=1, color='g', linestyles='dashed')\n",
    "vline2 = plt.vlines(x=12, ymin=-1, ymax=1, color='g', linestyles='dashed')\n",
    "# Axis labels\n",
    "ylabel = plt.ylabel('Cosine of month')\n",
    "xlabel = plt.xlabel('month')\n",
    "title = plt.title('Cosine transformation')"
   ]
  },
  {
   "cell_type": "markdown",
   "id": "654a5501-d13d-470a-aca0-331fea73c3a9",
   "metadata": {},
   "source": [
    "We can also scatter plot the 2 transformed variables and observe that the cyclical nature of the month variable has been successfully captured."
   ]
  },
  {
   "cell_type": "code",
   "execution_count": 29,
   "id": "db1b843a-1785-46d7-8ede-19ef08593e23",
   "metadata": {},
   "outputs": [
    {
     "data": {
      "image/png": "[encoded data removed]",
      "text/plain": [
       "<Figure size 700x500 with 2 Axes>"
      ]
     },
     "metadata": {},
     "output_type": "display_data"
    }
   ],
   "source": [
    "fig, ax = plt.subplots(figsize=(7, 5))\n",
    "sp = ax.scatter(df['month_sin'], df['month_cos'], c=df[\"month\"])\n",
    "axis = ax.set(\n",
    "    xlabel=\"sin(month)\",\n",
    "    ylabel=\"cos(month)\",\n",
    ")\n",
    "colorbar = fig.colorbar(sp)"
   ]
  },
  {
   "cell_type": "markdown",
   "id": "f1e0d5eb-8e61-422e-a615-e8d373718503",
   "metadata": {},
   "source": [
    "In the above plot we observe how the month of December (value 12-deep yellow color) neighbors with January (value 1-dark blue color), eliminating the discontinuity of the original `month` variable."
   ]
  },
  {
   "cell_type": "markdown",
   "id": "7311f383-1c09-480d-8455-48ef3a8a818b",
   "metadata": {},
   "source": [
    "Since the `month` variable is no longer needed we drop it from the dataframe"
   ]
  },
  {
   "cell_type": "code",
   "execution_count": 30,
   "id": "9faa6784-b584-4cb3-8108-71b1d2b5a4aa",
   "metadata": {},
   "outputs": [],
   "source": [
    "# Drop the original month column since it is no longer needed\n",
    "df = df.drop('month', axis=1)"
   ]
  },
  {
   "cell_type": "markdown",
   "id": "62655948-498c-4978-a81f-1cb9e4a23b62",
   "metadata": {},
   "source": [
    "### Creating Lagged Variables for Predictive Modeling"
   ]
  },
  {
   "cell_type": "markdown",
   "id": "78021da0-43db-47b0-b1ff-71c01e10aca8",
   "metadata": {},
   "source": [
    "Predicting current weather using present data isn’t true forecasting.   \n",
    "To make this project more realistic and challenging, we will introduce lagged variables.   \n",
    "Specifically, to predict whether it will rain, snow, or not at a given `time point t`, we will use weather parameters from one hour earlier (`time point t-1`). This approach enables us to predict future weather conditions based on past observations, simulating the use of historical data.   \n",
    "The addition of lagged variables makes the project more challenging and adds a touch of realism, while at the same time we can still practice with ML classification algorithms \n",
    "\n",
    "Feel free to experiment and alter the data to your liking.   \n",
    "Instead of using the previous hour's weather attributes, you can use the values from the past 3 hours, or even compile a moving average value, for example an average of the past 3 hours where you average the values of each predictor for the time points t-3, t-2 and t-1, in order to predict the 'weather_event' attribute at time point t."
   ]
  },
  {
   "cell_type": "code",
   "execution_count": 31,
   "id": "856f4549-134b-4bb4-997c-4e61c53c9d0b",
   "metadata": {},
   "outputs": [],
   "source": [
    "# List of columns for which to create lag variables\n",
    "lag_columns = [\"temperature_2m\", \n",
    "    \"relative_humidity_2m\", \n",
    "    \"dew_point_2m\", \n",
    "    \"surface_pressure\", \n",
    "    \"cloud_cover_low\", \n",
    "    \"cloud_cover_mid\", \n",
    "    \"evapotranspiration\", \n",
    "    \"vapour_pressure_deficit\", \n",
    "    \"wind_speed_10m\", \n",
    "    \"wind_gusts_10m\", \n",
    "    \"soil_temp_0_to_7cm\", \n",
    "    \"soil_moist_0_to_7cm\", \n",
    "    \"direct_radiation\",\n",
    "]\n",
    "\n",
    "# Create a new DataFrame to store the lagged features\n",
    "lagged_1h_df = df.copy()  # Copy the original DataFrame to modify it\n",
    "\n",
    "# Create 1-hour lagged features\n",
    "for col in lag_columns:\n",
    "    lagged_1h_df[f'{col}_lag_1h'] = df[col].shift(1)  # Shift by 1 step (1 hour back in the data)\n",
    "\n",
    "# Drop rows with NaN values (if any), that result from the lagging process\n",
    "lagged_1h_df = lagged_1h_df.dropna(subset=[f'{col}_lag_1h' for col in lag_columns])\n",
    "\n",
    "# Drop the current-time columns to keep only the lagged versions\n",
    "lagged_1h_df = lagged_1h_df.drop(columns=lag_columns)"
   ]
  },
  {
   "cell_type": "markdown",
   "id": "b699d5bc-8a55-4f20-9306-51435e42c436",
   "metadata": {},
   "source": [
    "A common practice in ML is to place the target/response variable as the final column in the dataframe, clearly separated from the predictor variables."
   ]
  },
  {
   "cell_type": "code",
   "execution_count": 32,
   "id": "fa6cf452-d119-4c81-a6d4-a904a3c27141",
   "metadata": {},
   "outputs": [
    {
     "name": "stdout",
     "output_type": "stream",
     "text": [
      "<class 'pandas.core.frame.DataFrame'>\n",
      "Index: 43823 entries, 1 to 43823\n",
      "Data columns (total 17 columns):\n",
      " #   Column                          Non-Null Count  Dtype              \n",
      "---  ------                          --------------  -----              \n",
      " 0   date                            43823 non-null  datetime64[ns, UTC]\n",
      " 1   month_sin                       43823 non-null  float64            \n",
      " 2   month_cos                       43823 non-null  float64            \n",
      " 3   temperature_2m_lag_1h           43823 non-null  float32            \n",
      " 4   relative_humidity_2m_lag_1h     43823 non-null  float32            \n",
      " 5   dew_point_2m_lag_1h             43823 non-null  float32            \n",
      " 6   surface_pressure_lag_1h         43823 non-null  float32            \n",
      " 7   cloud_cover_low_lag_1h          43823 non-null  float32            \n",
      " 8   cloud_cover_mid_lag_1h          43823 non-null  float32            \n",
      " 9   evapotranspiration_lag_1h       43823 non-null  float32            \n",
      " 10  vapour_pressure_deficit_lag_1h  43823 non-null  float32            \n",
      " 11  wind_speed_10m_lag_1h           43823 non-null  float32            \n",
      " 12  wind_gusts_10m_lag_1h           43823 non-null  float32            \n",
      " 13  soil_temp_0_to_7cm_lag_1h       43823 non-null  float32            \n",
      " 14  soil_moist_0_to_7cm_lag_1h      43823 non-null  float32            \n",
      " 15  direct_radiation_lag_1h         43823 non-null  float32            \n",
      " 16  weather_event                   43823 non-null  int64              \n",
      "dtypes: datetime64[ns, UTC](1), float32(13), float64(2), int64(1)\n",
      "memory usage: 3.8 MB\n"
     ]
    }
   ],
   "source": [
    "# Remove (pop) the 'weather_event' column from the DataFrame.\n",
    "weather_event = lagged_1h_df.pop('weather_event')\n",
    "\n",
    "# Reassign it as the last column.\n",
    "lagged_1h_df['weather_event'] = weather_event\n",
    "\n",
    "# Verify the new order:\n",
    "lagged_1h_df.info()"
   ]
  },
  {
   "cell_type": "markdown",
   "id": "41e050cc-3f92-46c0-9454-3789cefbd074",
   "metadata": {},
   "source": [
    "**Save the dataframe to a `csv` file for later use**"
   ]
  },
  {
   "cell_type": "code",
   "execution_count": 33,
   "id": "79def2de-6d50-46ad-9006-1155481e2298",
   "metadata": {},
   "outputs": [],
   "source": [
    "athens_weather_df_2019_2023 = lagged_1h_df.to_csv('../data/athens_weather_df_2019_2023.csv', index=False)"
   ]
  }
 ],
 "metadata": {
  "kernelspec": {
   "display_name": "Python (eap)",
   "language": "python",
   "name": "eap"
  },
  "language_info": {
   "codemirror_mode": {
    "name": "ipython",
    "version": 3
   },
   "file_extension": ".py",
   "mimetype": "text/x-python",
   "name": "python",
   "nbconvert_exporter": "python",
   "pygments_lexer": "ipython3",
   "version": "3.10.13"
  }
 },
 "nbformat": 4,
 "nbformat_minor": 5
}
