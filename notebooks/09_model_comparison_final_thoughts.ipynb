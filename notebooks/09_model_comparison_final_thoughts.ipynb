{
 "cells": [
  {
   "cell_type": "markdown",
   "id": "88c8bfa4-8ae8-468b-83e8-a8e91a4079bf",
   "metadata": {},
   "source": [
    "## **Model comparison and Final Thoughts**"
   ]
  },
  {
   "cell_type": "code",
   "execution_count": 6,
   "id": "fafd9609-a712-4959-9cfe-1eb5d4a8d081",
   "metadata": {},
   "outputs": [],
   "source": [
    "from IPython.core.interactiveshell import InteractiveShell\n",
    "InteractiveShell.ast_node_interactivity = \"all\""
   ]
  },
  {
   "cell_type": "code",
   "execution_count": 7,
   "id": "94971344-107a-4e55-93b7-eade55f34fc0",
   "metadata": {},
   "outputs": [],
   "source": [
    "from pathlib import Path\n",
    "import pandas as pd\n",
    "\n",
    "# Ensure you have created a \"data\" folder in your project directory \n",
    "# and downloaded the CSV file inside it.\n",
    "file_path = Path.cwd().parent / \"data\" / \"athens_weather_df_2019_2023.csv\"\n",
    "\n",
    "# Load dataset with index and date parsing\n",
    "lagged_1h_df = pd.read_csv(file_path, parse_dates=[\"date\"])"
   ]
  },
  {
   "cell_type": "code",
   "execution_count": 8,
   "id": "78a1a106-a7f0-4d28-82f5-3158bec6d7ff",
   "metadata": {},
   "outputs": [],
   "source": [
    "X = lagged_1h_df.drop(columns=['date', 'weather_event'])\n",
    "y = lagged_1h_df['weather_event']"
   ]
  },
  {
   "cell_type": "code",
   "execution_count": 9,
   "id": "8a683d7a-80c9-48cc-9eb4-7680aa84194a",
   "metadata": {},
   "outputs": [],
   "source": [
    "from sklearn.model_selection import train_test_split\n",
    "X_train, X_test, y_train, y_test = train_test_split(X, y, test_size=0.3, stratify=y, random_state=42)"
   ]
  },
  {
   "cell_type": "markdown",
   "id": "5815ddae-9b5c-4874-a02c-15a458774aa6",
   "metadata": {},
   "source": [
    "### **Load All Model Reports for Final Comparison & Evaluation**"
   ]
  },
  {
   "cell_type": "code",
   "execution_count": 10,
   "id": "cde4db2b-910c-4d82-b536-a9a25b39abfc",
   "metadata": {},
   "outputs": [
    {
     "name": "stdout",
     "output_type": "stream",
     "text": [
      "All model reports loaded successfully!\n"
     ]
    }
   ],
   "source": [
    "from joblib import load\n",
    "\n",
    "# Define report file paths\n",
    "report_paths = {\n",
    "    \"Standard Logistic Regression\": \"../reports/03_standard_logistic_regression_report.joblib\",\n",
    "    \"Weighted Logistic Regression\": \"../reports/04_weighted_logistic_regression_report.joblib\",\n",
    "    \"SMOTE Logistic Regression\": \"../reports/05_smote_logistic_regression_report.joblib\",\n",
    "    \"OvR Logistic Regression\": \"../reports/06_ovr_logistic_regression_report.joblib\",\n",
    "    \"Bayes Optimized Logistic Regression\": \"../reports/07_bayes_logistic_regression_report.joblib\"\n",
    "}\n",
    "\n",
    "# Load reports into a dictionary\n",
    "loaded_reports = {}\n",
    "for model_name, path in report_paths.items():\n",
    "    loaded_reports[model_name] = load(path)\n",
    "\n",
    "print(\"All model reports loaded successfully!\")"
   ]
  },
  {
   "cell_type": "code",
   "execution_count": 11,
   "id": "ad19cafe-9ed0-4528-b5a6-a264ab8ffb57",
   "metadata": {},
   "outputs": [
    {
     "name": "stdout",
     "output_type": "stream",
     "text": [
      "dict_keys(['Standard Logistic Regression', 'Weighted Logistic Regression', 'SMOTE Logistic Regression', 'OvR Logistic Regression', 'Bayes Optimized Logistic Regression'])\n"
     ]
    }
   ],
   "source": [
    "print(loaded_reports.keys())"
   ]
  },
  {
   "cell_type": "code",
   "execution_count": 12,
   "id": "f79f0b36-60ef-4aa3-9e4b-6882ad2f5986",
   "metadata": {},
   "outputs": [
    {
     "data": {
      "text/html": [
       "<div>\n",
       "<style scoped>\n",
       "    .dataframe tbody tr th:only-of-type {\n",
       "        vertical-align: middle;\n",
       "    }\n",
       "\n",
       "    .dataframe tbody tr th {\n",
       "        vertical-align: top;\n",
       "    }\n",
       "\n",
       "    .dataframe thead th {\n",
       "        text-align: right;\n",
       "    }\n",
       "</style>\n",
       "<table border=\"1\" class=\"dataframe\">\n",
       "  <thead>\n",
       "    <tr style=\"text-align: right;\">\n",
       "      <th></th>\n",
       "      <th>Standard Logistic Regression</th>\n",
       "      <th>Weighted Logistic Regression</th>\n",
       "      <th>SMOTE Logistic Regression</th>\n",
       "      <th>OvR Logistic Regression</th>\n",
       "      <th>Bayes Optimized Logistic Regression</th>\n",
       "    </tr>\n",
       "  </thead>\n",
       "  <tbody>\n",
       "    <tr>\n",
       "      <th>precision_0</th>\n",
       "      <td>0.9497</td>\n",
       "      <td>0.9909</td>\n",
       "      <td>0.9906</td>\n",
       "      <td>0.9908</td>\n",
       "      <td>0.9908</td>\n",
       "    </tr>\n",
       "    <tr>\n",
       "      <th>recall_0</th>\n",
       "      <td>0.9823</td>\n",
       "      <td>0.8422</td>\n",
       "      <td>0.8517</td>\n",
       "      <td>0.8409</td>\n",
       "      <td>0.8419</td>\n",
       "    </tr>\n",
       "    <tr>\n",
       "      <th>f1_0</th>\n",
       "      <td>0.9657</td>\n",
       "      <td>0.9105</td>\n",
       "      <td>0.9159</td>\n",
       "      <td>0.9097</td>\n",
       "      <td>0.9103</td>\n",
       "    </tr>\n",
       "    <tr>\n",
       "      <th>pr_auc_0</th>\n",
       "      <td>0.9949</td>\n",
       "      <td>0.9947</td>\n",
       "      <td>0.9948</td>\n",
       "      <td>0.9948</td>\n",
       "      <td>0.9948</td>\n",
       "    </tr>\n",
       "    <tr>\n",
       "      <th>precision_rain</th>\n",
       "      <td>0.6879</td>\n",
       "      <td>0.3539</td>\n",
       "      <td>0.3660</td>\n",
       "      <td>0.3516</td>\n",
       "      <td>0.3530</td>\n",
       "    </tr>\n",
       "    <tr>\n",
       "      <th>recall_rain</th>\n",
       "      <td>0.4397</td>\n",
       "      <td>0.9066</td>\n",
       "      <td>0.9048</td>\n",
       "      <td>0.9084</td>\n",
       "      <td>0.9093</td>\n",
       "    </tr>\n",
       "    <tr>\n",
       "      <th>f1_rain</th>\n",
       "      <td>0.5365</td>\n",
       "      <td>0.5090</td>\n",
       "      <td>0.5211</td>\n",
       "      <td>0.5070</td>\n",
       "      <td>0.5086</td>\n",
       "    </tr>\n",
       "    <tr>\n",
       "      <th>pr_auc_rain</th>\n",
       "      <td>0.6419</td>\n",
       "      <td>0.6167</td>\n",
       "      <td>0.6235</td>\n",
       "      <td>0.6098</td>\n",
       "      <td>0.6125</td>\n",
       "    </tr>\n",
       "    <tr>\n",
       "      <th>precision_snow</th>\n",
       "      <td>1.0000</td>\n",
       "      <td>0.1782</td>\n",
       "      <td>0.2222</td>\n",
       "      <td>0.1868</td>\n",
       "      <td>0.1932</td>\n",
       "    </tr>\n",
       "    <tr>\n",
       "      <th>recall_snow</th>\n",
       "      <td>0.2105</td>\n",
       "      <td>0.9474</td>\n",
       "      <td>0.9474</td>\n",
       "      <td>0.8947</td>\n",
       "      <td>0.8947</td>\n",
       "    </tr>\n",
       "    <tr>\n",
       "      <th>f1_snow</th>\n",
       "      <td>0.3478</td>\n",
       "      <td>0.3000</td>\n",
       "      <td>0.3600</td>\n",
       "      <td>0.3091</td>\n",
       "      <td>0.3178</td>\n",
       "    </tr>\n",
       "    <tr>\n",
       "      <th>pr_auc_snow</th>\n",
       "      <td>0.6581</td>\n",
       "      <td>0.3829</td>\n",
       "      <td>0.4069</td>\n",
       "      <td>0.2745</td>\n",
       "      <td>0.2661</td>\n",
       "    </tr>\n",
       "    <tr>\n",
       "      <th>balanced_accuracy</th>\n",
       "      <td>0.5442</td>\n",
       "      <td>0.8987</td>\n",
       "      <td>0.9013</td>\n",
       "      <td>0.8814</td>\n",
       "      <td>0.8820</td>\n",
       "    </tr>\n",
       "    <tr>\n",
       "      <th>f1_macro</th>\n",
       "      <td>0.6167</td>\n",
       "      <td>0.5732</td>\n",
       "      <td>0.5990</td>\n",
       "      <td>0.5753</td>\n",
       "      <td>0.5789</td>\n",
       "    </tr>\n",
       "    <tr>\n",
       "      <th>pr_auc_macro</th>\n",
       "      <td>0.7670</td>\n",
       "      <td>0.6706</td>\n",
       "      <td>0.6811</td>\n",
       "      <td>0.6340</td>\n",
       "      <td>0.6305</td>\n",
       "    </tr>\n",
       "  </tbody>\n",
       "</table>\n",
       "</div>"
      ],
      "text/plain": [
       "                   Standard Logistic Regression  Weighted Logistic Regression  \\\n",
       "precision_0                              0.9497                        0.9909   \n",
       "recall_0                                 0.9823                        0.8422   \n",
       "f1_0                                     0.9657                        0.9105   \n",
       "pr_auc_0                                 0.9949                        0.9947   \n",
       "precision_rain                           0.6879                        0.3539   \n",
       "recall_rain                              0.4397                        0.9066   \n",
       "f1_rain                                  0.5365                        0.5090   \n",
       "pr_auc_rain                              0.6419                        0.6167   \n",
       "precision_snow                           1.0000                        0.1782   \n",
       "recall_snow                              0.2105                        0.9474   \n",
       "f1_snow                                  0.3478                        0.3000   \n",
       "pr_auc_snow                              0.6581                        0.3829   \n",
       "balanced_accuracy                        0.5442                        0.8987   \n",
       "f1_macro                                 0.6167                        0.5732   \n",
       "pr_auc_macro                             0.7670                        0.6706   \n",
       "\n",
       "                   SMOTE Logistic Regression  OvR Logistic Regression  \\\n",
       "precision_0                           0.9906                   0.9908   \n",
       "recall_0                              0.8517                   0.8409   \n",
       "f1_0                                  0.9159                   0.9097   \n",
       "pr_auc_0                              0.9948                   0.9948   \n",
       "precision_rain                        0.3660                   0.3516   \n",
       "recall_rain                           0.9048                   0.9084   \n",
       "f1_rain                               0.5211                   0.5070   \n",
       "pr_auc_rain                           0.6235                   0.6098   \n",
       "precision_snow                        0.2222                   0.1868   \n",
       "recall_snow                           0.9474                   0.8947   \n",
       "f1_snow                               0.3600                   0.3091   \n",
       "pr_auc_snow                           0.4069                   0.2745   \n",
       "balanced_accuracy                     0.9013                   0.8814   \n",
       "f1_macro                              0.5990                   0.5753   \n",
       "pr_auc_macro                          0.6811                   0.6340   \n",
       "\n",
       "                   Bayes Optimized Logistic Regression  \n",
       "precision_0                                     0.9908  \n",
       "recall_0                                        0.8419  \n",
       "f1_0                                            0.9103  \n",
       "pr_auc_0                                        0.9948  \n",
       "precision_rain                                  0.3530  \n",
       "recall_rain                                     0.9093  \n",
       "f1_rain                                         0.5086  \n",
       "pr_auc_rain                                     0.6125  \n",
       "precision_snow                                  0.1932  \n",
       "recall_snow                                     0.8947  \n",
       "f1_snow                                         0.3178  \n",
       "pr_auc_snow                                     0.2661  \n",
       "balanced_accuracy                               0.8820  \n",
       "f1_macro                                        0.5789  \n",
       "pr_auc_macro                                    0.6305  "
      ]
     },
     "execution_count": 12,
     "metadata": {},
     "output_type": "execute_result"
    }
   ],
   "source": [
    "import pandas as pd\n",
    "from joblib import load\n",
    "\n",
    "\n",
    "# Load reports into a dictionary\n",
    "loaded_reports = {name: load(path) for name, path in report_paths.items()}\n",
    "\n",
    "# Concatenate reports efficiently\n",
    "comparison_df = pd.concat(loaded_reports.values(), axis=0)\n",
    "comparison_df.index = loaded_reports.keys()\n",
    "\n",
    "comparison_df.T"
   ]
  },
  {
   "cell_type": "markdown",
   "id": "d6355911-e549-4a02-88d5-b423be203d24",
   "metadata": {},
   "source": [
    "With the exception of the baseline model, all other models demonstrate similar performance across all metrics. Differences are marginal and, in many cases, only noticeable at the third or fourth decimal place.\n",
    "\n",
    "A practical and effective way to compare model performance across iterations is to visualize all confusion matrices side by side, allowing for a direct comparison of True Positives (TPs), False Positives (FPs), and meaningful insights model by model"
   ]
  },
  {
   "cell_type": "markdown",
   "id": "4bc6fd0b-5fad-49d2-926b-3ccb9dd8b0d4",
   "metadata": {},
   "source": [
    "- **Assessing Model Performance Using the Confusion matrices**"
   ]
  },
  {
   "cell_type": "code",
   "execution_count": 13,
   "id": "f7e20907-929b-4059-b684-abc80af9e433",
   "metadata": {},
   "outputs": [
    {
     "data": {
      "image/png": "[encoded data removed]",
      "text/plain": [
       "<Figure size 1800x400 with 5 Axes>"
      ]
     },
     "metadata": {},
     "output_type": "display_data"
    }
   ],
   "source": [
    "import seaborn as sns\n",
    "import matplotlib.pyplot as plt\n",
    "from joblib import load\n",
    "\n",
    "# Define paths for saved confusion matrices\n",
    "conf_matrix_paths = {\n",
    "    \"Standard LogReg\": \"../reports/03_standard_logistic_regression_confusion_matrix.joblib\",\n",
    "    \"Weighted LogReg\": \"../reports/04_weighted_logistic_regression_confusion_matrix.joblib\",\n",
    "    \"SMOTE LogReg\": \"../reports/05_smote_logistic_regression_confusion_matrix.joblib\",\n",
    "    \"OvR LogReg\": \"../reports/06_ovr_logistic_regression_confusion_matrix.joblib\",\n",
    "    \"BayesSearchCV\": \"../reports/07_bayes_logistic_regression_confusion_matrix.joblib\"\n",
    "}\n",
    "\n",
    "# Load confusion matrices\n",
    "loaded_conf_matrices = {name: load(path) for name, path in conf_matrix_paths.items()}\n",
    "\n",
    "# Plot confusion matrices side by side\n",
    "fig, axes = plt.subplots(1, len(loaded_conf_matrices), figsize=(18, 4))\n",
    "\n",
    "for ax, (name, conf_matrix) in zip(axes, loaded_conf_matrices.items()):\n",
    "    heatmap = sns.heatmap(conf_matrix, annot=True, fmt=\"d\", cmap=\"Blues\", ax=ax, cbar=False)\n",
    "    title = ax.set_title(name)\n",
    "    xlabel = ax.set_xlabel('Predicted Labels')\n",
    "    ylabel = ax.set_ylabel('True Labels')\n",
    "\n",
    "plt.tight_layout()\n",
    "plt.show()"
   ]
  },
  {
   "cell_type": "markdown",
   "id": "df1ce951-ffec-404a-afc4-be02ae384f7c",
   "metadata": {},
   "source": [
    "The confusion matrices highlight a persistent trade-off between precision and recall across all logistic regression iterations, emphasizing the challenges posed by severe class imbalance. While approaches such as class weighting, SMOTE oversampling, OvR, and Bayesian optimization provided some improvements over the baseline, none significantly enhanced minority class detection without increasing false positives.\n",
    "\n",
    "While all models helped increase the model’s sensitivity to minority classes, they did so at the cost of introducing more misclassifications in the majority class. Despite hyperparameter tuning (BayesSearchCV), the model’s fundamental limitations remained, suggesting that logistic regression, as a linear model, lacks the flexibility to fully capture the complexities of this dataset.\n",
    "A key takeaway from the learning curves is that adding more data would likely not improve model performance.\n",
    "\n",
    "These findings strongly suggest that further improvements using Logistic Regression alone are highly unlikely.\n",
    "This could be due to several factors:\n",
    "- **Complex, potentially non-linear relationships among the predictors that Logistic Regression alone fails to capture.**\n",
    "- **Severe class imbalance, remained a challenge despite multiple balancing techniques.**\n",
    "- **The algorithm may have reached its full potential given the constraints of this dataset.**"
   ]
  },
  {
   "cell_type": "markdown",
   "id": "d809c8a1-ffee-418d-980e-a04656c14d88",
   "metadata": {},
   "source": [
    "### **Final Thoughts**"
   ]
  },
  {
   "cell_type": "markdown",
   "id": "896505b4-f045-4fcf-a2fd-844bc0fd3e51",
   "metadata": {},
   "source": [
    "In real-world machine learning projects, the goal is often to derive actionable insights, make data-driven recommendations, or deploy models for real-world applications.\n",
    "\n",
    "However, the primary objective of this project was to explore and practice various classification techniques, **specifically Logistic Regression**, while examining its effectiveness in handling heavily imbalanced datasets. Class imbalance is a common challenge in real-world scenarios, making it a crucial aspect to study when developing classification models.\n",
    "\n",
    "For this reason, feature importance was not extracted in any iteration, as it falls outside the scope of this exploration. Instead, the focus was on understanding model behavior, diagnosing performance limitations, and experimenting with techniques to enhance classification performance under challenging conditions rather than deriving domain-specific insights.\n",
    "\n",
    "This notebook serves as a valuable exercise in assessing the strengths and limitations of Logistic Regression for imbalanced classification problems, paving the way for more advanced modeling approaches in future projects."
   ]
  },
  {
   "cell_type": "markdown",
   "id": "edf53aed-822b-42bd-a081-2093baf09a00",
   "metadata": {},
   "source": [
    "I hope you find this notebook helpful."
   ]
  }
 ],
 "metadata": {
  "kernelspec": {
   "display_name": "PyCaret (env)",
   "language": "python",
   "name": "pycaret"
  },
  "language_info": {
   "codemirror_mode": {
    "name": "ipython",
    "version": 3
   },
   "file_extension": ".py",
   "mimetype": "text/x-python",
   "name": "python",
   "nbconvert_exporter": "python",
   "pygments_lexer": "ipython3",
   "version": "3.10.16"
  }
 },
 "nbformat": 4,
 "nbformat_minor": 5
}
