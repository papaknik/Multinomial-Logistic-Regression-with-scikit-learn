{
 "cells": [
  {
   "cell_type": "markdown",
   "id": "640d700f-09ce-4d40-9c7e-869de8b59b6b",
   "metadata": {},
   "source": [
    "### Weighted Logistic Regression"
   ]
  },
  {
   "cell_type": "code",
   "execution_count": 1,
   "id": "99a152ef-eed9-46ab-bf26-5e1f83bc9402",
   "metadata": {},
   "outputs": [],
   "source": [
    "from IPython.core.interactiveshell import InteractiveShell\n",
    "InteractiveShell.ast_node_interactivity = \"all\""
   ]
  },
  {
   "cell_type": "code",
   "execution_count": 2,
   "id": "aaef8727-7442-4ea0-bc8f-226184771eb0",
   "metadata": {},
   "outputs": [],
   "source": [
    "import pandas as pd\n",
    "import numpy as np\n",
    "\n",
    "# Load dataset with index and date parsing\n",
    "lagged_1h_df = pd.read_csv(\"../data/athens_weather_df_2019_2023.csv\", parse_dates=[\"date\"])"
   ]
  },
  {
   "cell_type": "code",
   "execution_count": 3,
   "id": "c65e2843-4780-4e5e-9f43-6bc498f968b5",
   "metadata": {},
   "outputs": [
    {
     "name": "stdout",
     "output_type": "stream",
     "text": [
      "['direct_radiation_lag_1h', 'cloud_cover_mid_lag_1h', 'cloud_cover_low_lag_1h', 'vapour_pressure_deficit_lag_1h', 'evapotranspiration_lag_1h']\n"
     ]
    }
   ],
   "source": [
    "import pickle\n",
    "\n",
    "# Load the list of variables to transform\n",
    "variables_to_transform_path = \"../data/variables_to_transform.pkl\"\n",
    "\n",
    "with open(variables_to_transform_path, \"rb\") as f:\n",
    "    variables_to_transform = pickle.load(f)\n",
    "\n",
    "print(variables_to_transform)"
   ]
  },
  {
   "cell_type": "markdown",
   "id": "7158b51c-dc0f-4283-b5c6-896c4f67e61f",
   "metadata": {},
   "source": [
    "The issue of severe class imbalance in the target variable was evident during the EDA process and became even more pronounced when we fitted the Standard Logistic Regression model to the data. The unbalanced classes in the target variable significantly impacted the model’s ability to predict minority class instances effectively.\n",
    "\n",
    "To address this, we will fit a Logistic Regression model that attempts to balance the classes of the target variable. \n",
    "\n",
    "This iteration handles class imbalance by automatically adjusting the model to account for the uneven distribution of classes. (this is done by setting the argument `class_weight='balanced'`).   \n",
    "In this *balanced mode*, the model automatically adjusts the weights of each class inversely proportional to their frequencies in the training data. This adjustment ensures that the minority classes receive more importance during training, without modifying the dataset itself.   \n",
    "\n",
    "By implementing this weighting strategy, the model is expected to improve its ability to predict **underrepresented classes**, potentially leading to better recall and precision for these categories and finally better overall performance."
   ]
  },
  {
   "cell_type": "markdown",
   "id": "e84ee016-56be-43bb-8166-ab56c0325f9e",
   "metadata": {},
   "source": [
    "- separate the dataset into input space X (the predictor variables) and output space y (the target/response) variable"
   ]
  },
  {
   "cell_type": "code",
   "execution_count": 4,
   "id": "dbea23cc-cfce-4764-b92f-6281f38a1cfe",
   "metadata": {},
   "outputs": [],
   "source": [
    "X = lagged_1h_df.drop(columns=['date', 'weather_event'])\n",
    "y = lagged_1h_df['weather_event']"
   ]
  },
  {
   "cell_type": "markdown",
   "id": "b5e03d14-c2d1-4ded-b945-cc6ea75524e0",
   "metadata": {},
   "source": [
    "- data is split into a training set (70%) and a test set (30%) using stratified sampling to maintain the proportions of the target variable y in both sets. This ensures that the model is trained and evaluated with the same label distribution. The random state is set for reproducibility."
   ]
  },
  {
   "cell_type": "code",
   "execution_count": 5,
   "id": "40bfca85-6491-467f-b25e-5dc9cfaa3f13",
   "metadata": {},
   "outputs": [],
   "source": [
    "from sklearn.model_selection import train_test_split\n",
    "X_train, X_test, y_train, y_test = train_test_split(X, y, test_size=0.3, stratify=y, random_state=42)"
   ]
  },
  {
   "cell_type": "markdown",
   "id": "8340e2c4-deac-4e3a-b82c-ebb3d81f32e7",
   "metadata": {},
   "source": [
    "- Building and Fitting the Pipeline"
   ]
  },
  {
   "cell_type": "code",
   "execution_count": 6,
   "id": "e9a13217-c03b-4871-be2b-0243a59c9308",
   "metadata": {},
   "outputs": [
    {
     "data": {
      "text/html": [
       "<style>#sk-container-id-1 {\n",
       "  /* Definition of color scheme common for light and dark mode */\n",
       "  --sklearn-color-text: #000;\n",
       "  --sklearn-color-text-muted: #666;\n",
       "  --sklearn-color-line: gray;\n",
       "  /* Definition of color scheme for unfitted estimators */\n",
       "  --sklearn-color-unfitted-level-0: #fff5e6;\n",
       "  --sklearn-color-unfitted-level-1: #f6e4d2;\n",
       "  --sklearn-color-unfitted-level-2: #ffe0b3;\n",
       "  --sklearn-color-unfitted-level-3: chocolate;\n",
       "  /* Definition of color scheme for fitted estimators */\n",
       "  --sklearn-color-fitted-level-0: #f0f8ff;\n",
       "  --sklearn-color-fitted-level-1: #d4ebff;\n",
       "  --sklearn-color-fitted-level-2: #b3dbfd;\n",
       "  --sklearn-color-fitted-level-3: cornflowerblue;\n",
       "\n",
       "  /* Specific color for light theme */\n",
       "  --sklearn-color-text-on-default-background: var(--sg-text-color, var(--theme-code-foreground, var(--jp-content-font-color1, black)));\n",
       "  --sklearn-color-background: var(--sg-background-color, var(--theme-background, var(--jp-layout-color0, white)));\n",
       "  --sklearn-color-border-box: var(--sg-text-color, var(--theme-code-foreground, var(--jp-content-font-color1, black)));\n",
       "  --sklearn-color-icon: #696969;\n",
       "\n",
       "  @media (prefers-color-scheme: dark) {\n",
       "    /* Redefinition of color scheme for dark theme */\n",
       "    --sklearn-color-text-on-default-background: var(--sg-text-color, var(--theme-code-foreground, var(--jp-content-font-color1, white)));\n",
       "    --sklearn-color-background: var(--sg-background-color, var(--theme-background, var(--jp-layout-color0, #111)));\n",
       "    --sklearn-color-border-box: var(--sg-text-color, var(--theme-code-foreground, var(--jp-content-font-color1, white)));\n",
       "    --sklearn-color-icon: #878787;\n",
       "  }\n",
       "}\n",
       "\n",
       "#sk-container-id-1 {\n",
       "  color: var(--sklearn-color-text);\n",
       "}\n",
       "\n",
       "#sk-container-id-1 pre {\n",
       "  padding: 0;\n",
       "}\n",
       "\n",
       "#sk-container-id-1 input.sk-hidden--visually {\n",
       "  border: 0;\n",
       "  clip: rect(1px 1px 1px 1px);\n",
       "  clip: rect(1px, 1px, 1px, 1px);\n",
       "  height: 1px;\n",
       "  margin: -1px;\n",
       "  overflow: hidden;\n",
       "  padding: 0;\n",
       "  position: absolute;\n",
       "  width: 1px;\n",
       "}\n",
       "\n",
       "#sk-container-id-1 div.sk-dashed-wrapped {\n",
       "  border: 1px dashed var(--sklearn-color-line);\n",
       "  margin: 0 0.4em 0.5em 0.4em;\n",
       "  box-sizing: border-box;\n",
       "  padding-bottom: 0.4em;\n",
       "  background-color: var(--sklearn-color-background);\n",
       "}\n",
       "\n",
       "#sk-container-id-1 div.sk-container {\n",
       "  /* jupyter's `normalize.less` sets `[hidden] { display: none; }`\n",
       "     but bootstrap.min.css set `[hidden] { display: none !important; }`\n",
       "     so we also need the `!important` here to be able to override the\n",
       "     default hidden behavior on the sphinx rendered scikit-learn.org.\n",
       "     See: https://github.com/scikit-learn/scikit-learn/issues/21755 */\n",
       "  display: inline-block !important;\n",
       "  position: relative;\n",
       "}\n",
       "\n",
       "#sk-container-id-1 div.sk-text-repr-fallback {\n",
       "  display: none;\n",
       "}\n",
       "\n",
       "div.sk-parallel-item,\n",
       "div.sk-serial,\n",
       "div.sk-item {\n",
       "  /* draw centered vertical line to link estimators */\n",
       "  background-image: linear-gradient(var(--sklearn-color-text-on-default-background), var(--sklearn-color-text-on-default-background));\n",
       "  background-size: 2px 100%;\n",
       "  background-repeat: no-repeat;\n",
       "  background-position: center center;\n",
       "}\n",
       "\n",
       "/* Parallel-specific style estimator block */\n",
       "\n",
       "#sk-container-id-1 div.sk-parallel-item::after {\n",
       "  content: \"\";\n",
       "  width: 100%;\n",
       "  border-bottom: 2px solid var(--sklearn-color-text-on-default-background);\n",
       "  flex-grow: 1;\n",
       "}\n",
       "\n",
       "#sk-container-id-1 div.sk-parallel {\n",
       "  display: flex;\n",
       "  align-items: stretch;\n",
       "  justify-content: center;\n",
       "  background-color: var(--sklearn-color-background);\n",
       "  position: relative;\n",
       "}\n",
       "\n",
       "#sk-container-id-1 div.sk-parallel-item {\n",
       "  display: flex;\n",
       "  flex-direction: column;\n",
       "}\n",
       "\n",
       "#sk-container-id-1 div.sk-parallel-item:first-child::after {\n",
       "  align-self: flex-end;\n",
       "  width: 50%;\n",
       "}\n",
       "\n",
       "#sk-container-id-1 div.sk-parallel-item:last-child::after {\n",
       "  align-self: flex-start;\n",
       "  width: 50%;\n",
       "}\n",
       "\n",
       "#sk-container-id-1 div.sk-parallel-item:only-child::after {\n",
       "  width: 0;\n",
       "}\n",
       "\n",
       "/* Serial-specific style estimator block */\n",
       "\n",
       "#sk-container-id-1 div.sk-serial {\n",
       "  display: flex;\n",
       "  flex-direction: column;\n",
       "  align-items: center;\n",
       "  background-color: var(--sklearn-color-background);\n",
       "  padding-right: 1em;\n",
       "  padding-left: 1em;\n",
       "}\n",
       "\n",
       "\n",
       "/* Toggleable style: style used for estimator/Pipeline/ColumnTransformer box that is\n",
       "clickable and can be expanded/collapsed.\n",
       "- Pipeline and ColumnTransformer use this feature and define the default style\n",
       "- Estimators will overwrite some part of the style using the `sk-estimator` class\n",
       "*/\n",
       "\n",
       "/* Pipeline and ColumnTransformer style (default) */\n",
       "\n",
       "#sk-container-id-1 div.sk-toggleable {\n",
       "  /* Default theme specific background. It is overwritten whether we have a\n",
       "  specific estimator or a Pipeline/ColumnTransformer */\n",
       "  background-color: var(--sklearn-color-background);\n",
       "}\n",
       "\n",
       "/* Toggleable label */\n",
       "#sk-container-id-1 label.sk-toggleable__label {\n",
       "  cursor: pointer;\n",
       "  display: flex;\n",
       "  width: 100%;\n",
       "  margin-bottom: 0;\n",
       "  padding: 0.5em;\n",
       "  box-sizing: border-box;\n",
       "  text-align: center;\n",
       "  align-items: start;\n",
       "  justify-content: space-between;\n",
       "  gap: 0.5em;\n",
       "}\n",
       "\n",
       "#sk-container-id-1 label.sk-toggleable__label .caption {\n",
       "  font-size: 0.6rem;\n",
       "  font-weight: lighter;\n",
       "  color: var(--sklearn-color-text-muted);\n",
       "}\n",
       "\n",
       "#sk-container-id-1 label.sk-toggleable__label-arrow:before {\n",
       "  /* Arrow on the left of the label */\n",
       "  content: \"▸\";\n",
       "  float: left;\n",
       "  margin-right: 0.25em;\n",
       "  color: var(--sklearn-color-icon);\n",
       "}\n",
       "\n",
       "#sk-container-id-1 label.sk-toggleable__label-arrow:hover:before {\n",
       "  color: var(--sklearn-color-text);\n",
       "}\n",
       "\n",
       "/* Toggleable content - dropdown */\n",
       "\n",
       "#sk-container-id-1 div.sk-toggleable__content {\n",
       "  max-height: 0;\n",
       "  max-width: 0;\n",
       "  overflow: hidden;\n",
       "  text-align: left;\n",
       "  /* unfitted */\n",
       "  background-color: var(--sklearn-color-unfitted-level-0);\n",
       "}\n",
       "\n",
       "#sk-container-id-1 div.sk-toggleable__content.fitted {\n",
       "  /* fitted */\n",
       "  background-color: var(--sklearn-color-fitted-level-0);\n",
       "}\n",
       "\n",
       "#sk-container-id-1 div.sk-toggleable__content pre {\n",
       "  margin: 0.2em;\n",
       "  border-radius: 0.25em;\n",
       "  color: var(--sklearn-color-text);\n",
       "  /* unfitted */\n",
       "  background-color: var(--sklearn-color-unfitted-level-0);\n",
       "}\n",
       "\n",
       "#sk-container-id-1 div.sk-toggleable__content.fitted pre {\n",
       "  /* unfitted */\n",
       "  background-color: var(--sklearn-color-fitted-level-0);\n",
       "}\n",
       "\n",
       "#sk-container-id-1 input.sk-toggleable__control:checked~div.sk-toggleable__content {\n",
       "  /* Expand drop-down */\n",
       "  max-height: 200px;\n",
       "  max-width: 100%;\n",
       "  overflow: auto;\n",
       "}\n",
       "\n",
       "#sk-container-id-1 input.sk-toggleable__control:checked~label.sk-toggleable__label-arrow:before {\n",
       "  content: \"▾\";\n",
       "}\n",
       "\n",
       "/* Pipeline/ColumnTransformer-specific style */\n",
       "\n",
       "#sk-container-id-1 div.sk-label input.sk-toggleable__control:checked~label.sk-toggleable__label {\n",
       "  color: var(--sklearn-color-text);\n",
       "  background-color: var(--sklearn-color-unfitted-level-2);\n",
       "}\n",
       "\n",
       "#sk-container-id-1 div.sk-label.fitted input.sk-toggleable__control:checked~label.sk-toggleable__label {\n",
       "  background-color: var(--sklearn-color-fitted-level-2);\n",
       "}\n",
       "\n",
       "/* Estimator-specific style */\n",
       "\n",
       "/* Colorize estimator box */\n",
       "#sk-container-id-1 div.sk-estimator input.sk-toggleable__control:checked~label.sk-toggleable__label {\n",
       "  /* unfitted */\n",
       "  background-color: var(--sklearn-color-unfitted-level-2);\n",
       "}\n",
       "\n",
       "#sk-container-id-1 div.sk-estimator.fitted input.sk-toggleable__control:checked~label.sk-toggleable__label {\n",
       "  /* fitted */\n",
       "  background-color: var(--sklearn-color-fitted-level-2);\n",
       "}\n",
       "\n",
       "#sk-container-id-1 div.sk-label label.sk-toggleable__label,\n",
       "#sk-container-id-1 div.sk-label label {\n",
       "  /* The background is the default theme color */\n",
       "  color: var(--sklearn-color-text-on-default-background);\n",
       "}\n",
       "\n",
       "/* On hover, darken the color of the background */\n",
       "#sk-container-id-1 div.sk-label:hover label.sk-toggleable__label {\n",
       "  color: var(--sklearn-color-text);\n",
       "  background-color: var(--sklearn-color-unfitted-level-2);\n",
       "}\n",
       "\n",
       "/* Label box, darken color on hover, fitted */\n",
       "#sk-container-id-1 div.sk-label.fitted:hover label.sk-toggleable__label.fitted {\n",
       "  color: var(--sklearn-color-text);\n",
       "  background-color: var(--sklearn-color-fitted-level-2);\n",
       "}\n",
       "\n",
       "/* Estimator label */\n",
       "\n",
       "#sk-container-id-1 div.sk-label label {\n",
       "  font-family: monospace;\n",
       "  font-weight: bold;\n",
       "  display: inline-block;\n",
       "  line-height: 1.2em;\n",
       "}\n",
       "\n",
       "#sk-container-id-1 div.sk-label-container {\n",
       "  text-align: center;\n",
       "}\n",
       "\n",
       "/* Estimator-specific */\n",
       "#sk-container-id-1 div.sk-estimator {\n",
       "  font-family: monospace;\n",
       "  border: 1px dotted var(--sklearn-color-border-box);\n",
       "  border-radius: 0.25em;\n",
       "  box-sizing: border-box;\n",
       "  margin-bottom: 0.5em;\n",
       "  /* unfitted */\n",
       "  background-color: var(--sklearn-color-unfitted-level-0);\n",
       "}\n",
       "\n",
       "#sk-container-id-1 div.sk-estimator.fitted {\n",
       "  /* fitted */\n",
       "  background-color: var(--sklearn-color-fitted-level-0);\n",
       "}\n",
       "\n",
       "/* on hover */\n",
       "#sk-container-id-1 div.sk-estimator:hover {\n",
       "  /* unfitted */\n",
       "  background-color: var(--sklearn-color-unfitted-level-2);\n",
       "}\n",
       "\n",
       "#sk-container-id-1 div.sk-estimator.fitted:hover {\n",
       "  /* fitted */\n",
       "  background-color: var(--sklearn-color-fitted-level-2);\n",
       "}\n",
       "\n",
       "/* Specification for estimator info (e.g. \"i\" and \"?\") */\n",
       "\n",
       "/* Common style for \"i\" and \"?\" */\n",
       "\n",
       ".sk-estimator-doc-link,\n",
       "a:link.sk-estimator-doc-link,\n",
       "a:visited.sk-estimator-doc-link {\n",
       "  float: right;\n",
       "  font-size: smaller;\n",
       "  line-height: 1em;\n",
       "  font-family: monospace;\n",
       "  background-color: var(--sklearn-color-background);\n",
       "  border-radius: 1em;\n",
       "  height: 1em;\n",
       "  width: 1em;\n",
       "  text-decoration: none !important;\n",
       "  margin-left: 0.5em;\n",
       "  text-align: center;\n",
       "  /* unfitted */\n",
       "  border: var(--sklearn-color-unfitted-level-1) 1pt solid;\n",
       "  color: var(--sklearn-color-unfitted-level-1);\n",
       "}\n",
       "\n",
       ".sk-estimator-doc-link.fitted,\n",
       "a:link.sk-estimator-doc-link.fitted,\n",
       "a:visited.sk-estimator-doc-link.fitted {\n",
       "  /* fitted */\n",
       "  border: var(--sklearn-color-fitted-level-1) 1pt solid;\n",
       "  color: var(--sklearn-color-fitted-level-1);\n",
       "}\n",
       "\n",
       "/* On hover */\n",
       "div.sk-estimator:hover .sk-estimator-doc-link:hover,\n",
       ".sk-estimator-doc-link:hover,\n",
       "div.sk-label-container:hover .sk-estimator-doc-link:hover,\n",
       ".sk-estimator-doc-link:hover {\n",
       "  /* unfitted */\n",
       "  background-color: var(--sklearn-color-unfitted-level-3);\n",
       "  color: var(--sklearn-color-background);\n",
       "  text-decoration: none;\n",
       "}\n",
       "\n",
       "div.sk-estimator.fitted:hover .sk-estimator-doc-link.fitted:hover,\n",
       ".sk-estimator-doc-link.fitted:hover,\n",
       "div.sk-label-container:hover .sk-estimator-doc-link.fitted:hover,\n",
       ".sk-estimator-doc-link.fitted:hover {\n",
       "  /* fitted */\n",
       "  background-color: var(--sklearn-color-fitted-level-3);\n",
       "  color: var(--sklearn-color-background);\n",
       "  text-decoration: none;\n",
       "}\n",
       "\n",
       "/* Span, style for the box shown on hovering the info icon */\n",
       ".sk-estimator-doc-link span {\n",
       "  display: none;\n",
       "  z-index: 9999;\n",
       "  position: relative;\n",
       "  font-weight: normal;\n",
       "  right: .2ex;\n",
       "  padding: .5ex;\n",
       "  margin: .5ex;\n",
       "  width: min-content;\n",
       "  min-width: 20ex;\n",
       "  max-width: 50ex;\n",
       "  color: var(--sklearn-color-text);\n",
       "  box-shadow: 2pt 2pt 4pt #999;\n",
       "  /* unfitted */\n",
       "  background: var(--sklearn-color-unfitted-level-0);\n",
       "  border: .5pt solid var(--sklearn-color-unfitted-level-3);\n",
       "}\n",
       "\n",
       ".sk-estimator-doc-link.fitted span {\n",
       "  /* fitted */\n",
       "  background: var(--sklearn-color-fitted-level-0);\n",
       "  border: var(--sklearn-color-fitted-level-3);\n",
       "}\n",
       "\n",
       ".sk-estimator-doc-link:hover span {\n",
       "  display: block;\n",
       "}\n",
       "\n",
       "/* \"?\"-specific style due to the `<a>` HTML tag */\n",
       "\n",
       "#sk-container-id-1 a.estimator_doc_link {\n",
       "  float: right;\n",
       "  font-size: 1rem;\n",
       "  line-height: 1em;\n",
       "  font-family: monospace;\n",
       "  background-color: var(--sklearn-color-background);\n",
       "  border-radius: 1rem;\n",
       "  height: 1rem;\n",
       "  width: 1rem;\n",
       "  text-decoration: none;\n",
       "  /* unfitted */\n",
       "  color: var(--sklearn-color-unfitted-level-1);\n",
       "  border: var(--sklearn-color-unfitted-level-1) 1pt solid;\n",
       "}\n",
       "\n",
       "#sk-container-id-1 a.estimator_doc_link.fitted {\n",
       "  /* fitted */\n",
       "  border: var(--sklearn-color-fitted-level-1) 1pt solid;\n",
       "  color: var(--sklearn-color-fitted-level-1);\n",
       "}\n",
       "\n",
       "/* On hover */\n",
       "#sk-container-id-1 a.estimator_doc_link:hover {\n",
       "  /* unfitted */\n",
       "  background-color: var(--sklearn-color-unfitted-level-3);\n",
       "  color: var(--sklearn-color-background);\n",
       "  text-decoration: none;\n",
       "}\n",
       "\n",
       "#sk-container-id-1 a.estimator_doc_link.fitted:hover {\n",
       "  /* fitted */\n",
       "  background-color: var(--sklearn-color-fitted-level-3);\n",
       "}\n",
       "</style><div id=\"sk-container-id-1\" class=\"sk-top-container\"><div class=\"sk-text-repr-fallback\"><pre>Pipeline(steps=[(&#x27;preprocessing&#x27;,\n",
       "                 ColumnTransformer(force_int_remainder_cols=False,\n",
       "                                   remainder=&#x27;passthrough&#x27;,\n",
       "                                   transformers=[(&#x27;yeo_johnson&#x27;,\n",
       "                                                  PowerTransformer(),\n",
       "                                                  [&#x27;direct_radiation_lag_1h&#x27;,\n",
       "                                                   &#x27;cloud_cover_mid_lag_1h&#x27;,\n",
       "                                                   &#x27;cloud_cover_low_lag_1h&#x27;,\n",
       "                                                   &#x27;vapour_pressure_deficit_lag_1h&#x27;,\n",
       "                                                   &#x27;evapotranspiration_lag_1h&#x27;])])),\n",
       "                (&#x27;scaling&#x27;, RobustScaler()),\n",
       "                (&#x27;weighted_model&#x27;,\n",
       "                 LogisticRegression(class_weight=&#x27;balanced&#x27;, max_iter=1500,\n",
       "                                    n_jobs=-1, random_state=42))])</pre><b>In a Jupyter environment, please rerun this cell to show the HTML representation or trust the notebook. <br />On GitHub, the HTML representation is unable to render, please try loading this page with nbviewer.org.</b></div><div class=\"sk-container\" hidden><div class=\"sk-item sk-dashed-wrapped\"><div class=\"sk-label-container\"><div class=\"sk-label fitted sk-toggleable\"><input class=\"sk-toggleable__control sk-hidden--visually\" id=\"sk-estimator-id-1\" type=\"checkbox\" ><label for=\"sk-estimator-id-1\" class=\"sk-toggleable__label fitted sk-toggleable__label-arrow\"><div><div>Pipeline</div></div><div><a class=\"sk-estimator-doc-link fitted\" rel=\"noreferrer\" target=\"_blank\" href=\"https://scikit-learn.org/1.6/modules/generated/sklearn.pipeline.Pipeline.html\">?<span>Documentation for Pipeline</span></a><span class=\"sk-estimator-doc-link fitted\">i<span>Fitted</span></span></div></label><div class=\"sk-toggleable__content fitted\"><pre>Pipeline(steps=[(&#x27;preprocessing&#x27;,\n",
       "                 ColumnTransformer(force_int_remainder_cols=False,\n",
       "                                   remainder=&#x27;passthrough&#x27;,\n",
       "                                   transformers=[(&#x27;yeo_johnson&#x27;,\n",
       "                                                  PowerTransformer(),\n",
       "                                                  [&#x27;direct_radiation_lag_1h&#x27;,\n",
       "                                                   &#x27;cloud_cover_mid_lag_1h&#x27;,\n",
       "                                                   &#x27;cloud_cover_low_lag_1h&#x27;,\n",
       "                                                   &#x27;vapour_pressure_deficit_lag_1h&#x27;,\n",
       "                                                   &#x27;evapotranspiration_lag_1h&#x27;])])),\n",
       "                (&#x27;scaling&#x27;, RobustScaler()),\n",
       "                (&#x27;weighted_model&#x27;,\n",
       "                 LogisticRegression(class_weight=&#x27;balanced&#x27;, max_iter=1500,\n",
       "                                    n_jobs=-1, random_state=42))])</pre></div> </div></div><div class=\"sk-serial\"><div class=\"sk-item sk-dashed-wrapped\"><div class=\"sk-label-container\"><div class=\"sk-label fitted sk-toggleable\"><input class=\"sk-toggleable__control sk-hidden--visually\" id=\"sk-estimator-id-2\" type=\"checkbox\" ><label for=\"sk-estimator-id-2\" class=\"sk-toggleable__label fitted sk-toggleable__label-arrow\"><div><div>preprocessing: ColumnTransformer</div></div><div><a class=\"sk-estimator-doc-link fitted\" rel=\"noreferrer\" target=\"_blank\" href=\"https://scikit-learn.org/1.6/modules/generated/sklearn.compose.ColumnTransformer.html\">?<span>Documentation for preprocessing: ColumnTransformer</span></a></div></label><div class=\"sk-toggleable__content fitted\"><pre>ColumnTransformer(force_int_remainder_cols=False, remainder=&#x27;passthrough&#x27;,\n",
       "                  transformers=[(&#x27;yeo_johnson&#x27;, PowerTransformer(),\n",
       "                                 [&#x27;direct_radiation_lag_1h&#x27;,\n",
       "                                  &#x27;cloud_cover_mid_lag_1h&#x27;,\n",
       "                                  &#x27;cloud_cover_low_lag_1h&#x27;,\n",
       "                                  &#x27;vapour_pressure_deficit_lag_1h&#x27;,\n",
       "                                  &#x27;evapotranspiration_lag_1h&#x27;])])</pre></div> </div></div><div class=\"sk-parallel\"><div class=\"sk-parallel-item\"><div class=\"sk-item\"><div class=\"sk-label-container\"><div class=\"sk-label fitted sk-toggleable\"><input class=\"sk-toggleable__control sk-hidden--visually\" id=\"sk-estimator-id-3\" type=\"checkbox\" ><label for=\"sk-estimator-id-3\" class=\"sk-toggleable__label fitted sk-toggleable__label-arrow\"><div><div>yeo_johnson</div></div></label><div class=\"sk-toggleable__content fitted\"><pre>[&#x27;direct_radiation_lag_1h&#x27;, &#x27;cloud_cover_mid_lag_1h&#x27;, &#x27;cloud_cover_low_lag_1h&#x27;, &#x27;vapour_pressure_deficit_lag_1h&#x27;, &#x27;evapotranspiration_lag_1h&#x27;]</pre></div> </div></div><div class=\"sk-serial\"><div class=\"sk-item\"><div class=\"sk-estimator fitted sk-toggleable\"><input class=\"sk-toggleable__control sk-hidden--visually\" id=\"sk-estimator-id-4\" type=\"checkbox\" ><label for=\"sk-estimator-id-4\" class=\"sk-toggleable__label fitted sk-toggleable__label-arrow\"><div><div>PowerTransformer</div></div><div><a class=\"sk-estimator-doc-link fitted\" rel=\"noreferrer\" target=\"_blank\" href=\"https://scikit-learn.org/1.6/modules/generated/sklearn.preprocessing.PowerTransformer.html\">?<span>Documentation for PowerTransformer</span></a></div></label><div class=\"sk-toggleable__content fitted\"><pre>PowerTransformer()</pre></div> </div></div></div></div></div><div class=\"sk-parallel-item\"><div class=\"sk-item\"><div class=\"sk-label-container\"><div class=\"sk-label fitted sk-toggleable\"><input class=\"sk-toggleable__control sk-hidden--visually\" id=\"sk-estimator-id-5\" type=\"checkbox\" ><label for=\"sk-estimator-id-5\" class=\"sk-toggleable__label fitted sk-toggleable__label-arrow\"><div><div>remainder</div></div></label><div class=\"sk-toggleable__content fitted\"><pre>[&#x27;month_sin&#x27;, &#x27;month_cos&#x27;, &#x27;temperature_2m_lag_1h&#x27;, &#x27;relative_humidity_2m_lag_1h&#x27;, &#x27;dew_point_2m_lag_1h&#x27;, &#x27;surface_pressure_lag_1h&#x27;, &#x27;wind_speed_10m_lag_1h&#x27;, &#x27;wind_gusts_10m_lag_1h&#x27;, &#x27;soil_temp_0_to_7cm_lag_1h&#x27;, &#x27;soil_moist_0_to_7cm_lag_1h&#x27;]</pre></div> </div></div><div class=\"sk-serial\"><div class=\"sk-item\"><div class=\"sk-estimator fitted sk-toggleable\"><input class=\"sk-toggleable__control sk-hidden--visually\" id=\"sk-estimator-id-6\" type=\"checkbox\" ><label for=\"sk-estimator-id-6\" class=\"sk-toggleable__label fitted sk-toggleable__label-arrow\"><div><div>passthrough</div></div></label><div class=\"sk-toggleable__content fitted\"><pre>passthrough</pre></div> </div></div></div></div></div></div></div><div class=\"sk-item\"><div class=\"sk-estimator fitted sk-toggleable\"><input class=\"sk-toggleable__control sk-hidden--visually\" id=\"sk-estimator-id-7\" type=\"checkbox\" ><label for=\"sk-estimator-id-7\" class=\"sk-toggleable__label fitted sk-toggleable__label-arrow\"><div><div>RobustScaler</div></div><div><a class=\"sk-estimator-doc-link fitted\" rel=\"noreferrer\" target=\"_blank\" href=\"https://scikit-learn.org/1.6/modules/generated/sklearn.preprocessing.RobustScaler.html\">?<span>Documentation for RobustScaler</span></a></div></label><div class=\"sk-toggleable__content fitted\"><pre>RobustScaler()</pre></div> </div></div><div class=\"sk-item\"><div class=\"sk-estimator fitted sk-toggleable\"><input class=\"sk-toggleable__control sk-hidden--visually\" id=\"sk-estimator-id-8\" type=\"checkbox\" ><label for=\"sk-estimator-id-8\" class=\"sk-toggleable__label fitted sk-toggleable__label-arrow\"><div><div>LogisticRegression</div></div><div><a class=\"sk-estimator-doc-link fitted\" rel=\"noreferrer\" target=\"_blank\" href=\"https://scikit-learn.org/1.6/modules/generated/sklearn.linear_model.LogisticRegression.html\">?<span>Documentation for LogisticRegression</span></a></div></label><div class=\"sk-toggleable__content fitted\"><pre>LogisticRegression(class_weight=&#x27;balanced&#x27;, max_iter=1500, n_jobs=-1,\n",
       "                   random_state=42)</pre></div> </div></div></div></div></div></div>"
      ],
      "text/plain": [
       "Pipeline(steps=[('preprocessing',\n",
       "                 ColumnTransformer(force_int_remainder_cols=False,\n",
       "                                   remainder='passthrough',\n",
       "                                   transformers=[('yeo_johnson',\n",
       "                                                  PowerTransformer(),\n",
       "                                                  ['direct_radiation_lag_1h',\n",
       "                                                   'cloud_cover_mid_lag_1h',\n",
       "                                                   'cloud_cover_low_lag_1h',\n",
       "                                                   'vapour_pressure_deficit_lag_1h',\n",
       "                                                   'evapotranspiration_lag_1h'])])),\n",
       "                ('scaling', RobustScaler()),\n",
       "                ('weighted_model',\n",
       "                 LogisticRegression(class_weight='balanced', max_iter=1500,\n",
       "                                    n_jobs=-1, random_state=42))])"
      ]
     },
     "execution_count": 6,
     "metadata": {},
     "output_type": "execute_result"
    },
    {
     "name": "stdout",
     "output_type": "stream",
     "text": [
      "Execution time: 4.38 seconds\n",
      "Number of iterations for convergence: [162]\n"
     ]
    }
   ],
   "source": [
    "from sklearn.linear_model import LogisticRegression\n",
    "from sklearn.compose import ColumnTransformer\n",
    "from sklearn.preprocessing import PowerTransformer, RobustScaler\n",
    "from sklearn.pipeline import Pipeline\n",
    "\n",
    "# Define the preprocessing step for Yeo-Johnson transformation\n",
    "preprocessor = ColumnTransformer([\n",
    "    ('yeo_johnson', PowerTransformer(method='yeo-johnson'), variables_to_transform),\n",
    "], remainder='passthrough', force_int_remainder_cols=False)  # Leave other features untouched\n",
    "\n",
    "# Define the pipeline\n",
    "weighted_pipeline = Pipeline([\n",
    "    ('preprocessing', preprocessor),   # Step 1: Yeo-Johnson transformation for specific variables\n",
    "    ('scaling', RobustScaler()),       # Step 2: Scale all features\n",
    "    ('weighted_model', LogisticRegression(\n",
    "        class_weight='balanced',\n",
    "        max_iter=1500,\n",
    "        random_state=42,\n",
    "        solver='lbfgs',\n",
    "        n_jobs=-1\n",
    "    ))\n",
    "])\n",
    "\n",
    "\n",
    "import time\n",
    "start = time.time()\n",
    "\n",
    "# Step 3: Fit the pipeline to the training data\n",
    "weighted_pipeline.fit(X_train, y_train)\n",
    "\n",
    "# Execution time and number of iterations for the solver to converge\n",
    "execution_time = time.time() - start\n",
    "print(f\"Execution time: {execution_time:.2f} seconds\")\n",
    "weighted_model_fitted = weighted_pipeline['weighted_model']\n",
    "print(f\"Number of iterations for convergence: {weighted_model_fitted.n_iter_}\")"
   ]
  },
  {
   "cell_type": "markdown",
   "id": "58fbeee1-e31d-4307-8d29-476de775491a",
   "metadata": {},
   "source": [
    "- extracting the predicted values of y by passing the test set features (X_test) into the trained model"
   ]
  },
  {
   "cell_type": "code",
   "execution_count": 7,
   "id": "b6520dad-2b61-4876-9137-0d688986562f",
   "metadata": {},
   "outputs": [],
   "source": [
    "y_pred_weighted = weighted_pipeline.predict(X_test)"
   ]
  },
  {
   "cell_type": "markdown",
   "id": "741e146a-4b8d-4117-82da-70c88aa22348",
   "metadata": {},
   "source": [
    "#### **Model Evaluation**"
   ]
  },
  {
   "cell_type": "markdown",
   "id": "c8c77201-0954-471f-888d-9009041504e1",
   "metadata": {},
   "source": [
    "##### **CV evaluation**"
   ]
  },
  {
   "cell_type": "code",
   "execution_count": 8,
   "id": "06649548-8a88-43c9-ab91-7fe87e2f7928",
   "metadata": {},
   "outputs": [],
   "source": [
    "from sklearn.model_selection import StratifiedKFold, cross_val_score\n",
    "stkf = StratifiedKFold(n_splits=10, shuffle=True, random_state=42)"
   ]
  },
  {
   "cell_type": "code",
   "execution_count": 9,
   "id": "03588b22-f2b2-4605-b3bf-e419ca8311dd",
   "metadata": {},
   "outputs": [
    {
     "name": "stdout",
     "output_type": "stream",
     "text": [
      "[0.83053893 0.91661924 0.92224647 0.9187118  0.91532504 0.91601839\n",
      " 0.91588018 0.91695903 0.91374191 0.90727383]\n",
      "\n",
      "The mean value of balanced_accuracy on the cv evaluation is 0.907\n",
      "\n",
      "The standard deviation of balanced_accuracy on the cv evaluation is 0.026\n"
     ]
    }
   ],
   "source": [
    "logreg_weighted_cv = cross_val_score(weighted_pipeline, X_train, y_train, cv=stkf, scoring='balanced_accuracy', n_jobs=-1)\n",
    "print(logreg_weighted_cv)\n",
    "print(f'\\nThe mean value of balanced_accuracy on the cv evaluation is {logreg_weighted_cv.mean().round(3)}')\n",
    "print(f'\\nThe standard deviation of balanced_accuracy on the cv evaluation is {logreg_weighted_cv.std().round(3)}')"
   ]
  },
  {
   "cell_type": "markdown",
   "id": "bc6f9629-832a-4367-ab4d-cbd76a44f09b",
   "metadata": {},
   "source": [
    "##### **The Confusion Matrix**"
   ]
  },
  {
   "cell_type": "markdown",
   "id": "04a88292-f8a0-49f1-a48c-2ae5ee359224",
   "metadata": {},
   "source": [
    "- Generating the confusion matrix to visualize the performance of the model on the test set this time. The confusion matrix shows how well the model predicted each class by displaying the true positive, false positive, true negative, and false negative counts for each class ('No Precipitation', 'Rain', 'Snowfall')."
   ]
  },
  {
   "cell_type": "code",
   "execution_count": 10,
   "id": "e5910844-2231-43dc-bdcf-faea00f17689",
   "metadata": {},
   "outputs": [
    {
     "data": {
      "image/png": "[encoded data removed]",
      "text/plain": [
       "<Figure size 500x400 with 2 Axes>"
      ]
     },
     "metadata": {},
     "output_type": "display_data"
    }
   ],
   "source": [
    "import matplotlib.pyplot as plt\n",
    "from sklearn.metrics import ConfusionMatrixDisplay, confusion_matrix\n",
    "conf_matrix_weighted = confusion_matrix(y_test, y_pred_weighted)\n",
    "fig, ax = plt.subplots(figsize=(5, 4))\n",
    "disp = ConfusionMatrixDisplay(confusion_matrix=conf_matrix_weighted, display_labels=['No Precipitation', 'Rain', 'Snowfall'])\n",
    "plot = disp.plot(ax=ax, cmap=plt.cm.Blues, values_format='d')\n",
    "title = plt.title('Confusion Matrix - Weighted Logistic Regression')\n",
    "plt.show()"
   ]
  },
  {
   "cell_type": "markdown",
   "id": "cb2cef9a-a356-4ec0-8711-a99322b9d0a7",
   "metadata": {},
   "source": [
    "Handling class imbalance, led to significantly better results for the minority classes where the model correctly captured 1000 'Rain' events out of a total of 1103 instances, and also captured 18 out of 19 'Snowfall' events. Additionally, misclassifications of 'Rain' as 'No Precipitation' or 'Snowfall' decreased substantially. For example, the model incorrectly predicted 'No Precipitation' instead of 'Rain' only 92 times, compared to 616 times in the unweighted standard approach.\n",
    "\n",
    "However, this improvement in recall for the minority classes came at the cost of precision for the majority class ('No Precipitation'). The true positives for 'No Precipitation' dropped from 11,812 to 10127, and the number of actual 'No Precipitation' instances misclassified as 'Rain' increased significantly—from 213 misclassifications in the standard model to 1826 in the weighted approach!\n",
    "\n",
    "This also demonstrates the precision-recall trade-off mentioned earlier: by focusing on improving recall for the minority classes, the model sacrifices precision, particularly for the majority class."
   ]
  },
  {
   "cell_type": "markdown",
   "id": "d9ca6df3-d17e-4485-9134-675c711bf852",
   "metadata": {},
   "source": [
    "##### **Model Probabilities and Misclassification: The Snowfall False Negative instance**"
   ]
  },
  {
   "cell_type": "markdown",
   "id": "044528f8-71eb-41a2-9e6f-bff7a5b2d0a9",
   "metadata": {},
   "source": [
    "Upon examining the confusion matrix, we identified one particular case where an actual snowfall event was misclassified as \"no precipitation\" by the model. Given the rarity (only 19 instances) of snowfall events in our dataset, we can conduct a deeper analysis to understand the model's decision-making process in this instance.\n",
    "\n",
    "What has happened in the one actual 'snowfall' instance that was <u>not correctly</u> predicted by the model and was classified as a 'no precipitation' event?"
   ]
  },
  {
   "cell_type": "markdown",
   "id": "367aeef9-1613-4c57-8467-b8d50e2b76b0",
   "metadata": {},
   "source": [
    "- Extracting Model's Predicted Probabilities"
   ]
  },
  {
   "cell_type": "markdown",
   "id": "8890e69f-240d-4fcf-b2ff-02b33d62854d",
   "metadata": {},
   "source": [
    "Extracting the predicted probabilities for:\n",
    "- All correctly classified snowfall events (18 True Positives)\n",
    "- The single snowfall event that was misclassified as \"no precipitation\" (1 False Negative)"
   ]
  },
  {
   "cell_type": "code",
   "execution_count": 11,
   "id": "09fb8449-0613-461e-95ba-7a9bcc5d6923",
   "metadata": {},
   "outputs": [
    {
     "data": {
      "text/plain": [
       "18"
      ]
     },
     "execution_count": 11,
     "metadata": {},
     "output_type": "execute_result"
    }
   ],
   "source": [
    "correctly_predicted_snowfall_events = (y_pred_weighted==2) & (y_test==2)\n",
    "len(X_test[correctly_predicted_snowfall_events])"
   ]
  },
  {
   "cell_type": "code",
   "execution_count": 12,
   "id": "a0ac7bcb-4332-4747-991f-66f3abbf29d5",
   "metadata": {},
   "outputs": [
    {
     "data": {
      "text/plain": [
       "array([[0.   , 0.035, 0.965],\n",
       "       [0.001, 0.002, 0.997],\n",
       "       [0.   , 0.001, 0.998],\n",
       "       [0.001, 0.001, 0.998],\n",
       "       [0.   , 0.001, 0.999],\n",
       "       [0.007, 0.183, 0.81 ],\n",
       "       [0.   , 0.   , 0.999],\n",
       "       [0.   , 0.   , 1.   ],\n",
       "       [0.   , 0.004, 0.996],\n",
       "       [0.016, 0.397, 0.587],\n",
       "       [0.001, 0.002, 0.997],\n",
       "       [0.019, 0.005, 0.976],\n",
       "       [0.003, 0.102, 0.895],\n",
       "       [0.001, 0.003, 0.996],\n",
       "       [0.   , 0.005, 0.995],\n",
       "       [0.001, 0.008, 0.991],\n",
       "       [0.009, 0.01 , 0.981],\n",
       "       [0.   , 0.001, 0.998]])"
      ]
     },
     "execution_count": 12,
     "metadata": {},
     "output_type": "execute_result"
    }
   ],
   "source": [
    "np.round(weighted_pipeline.predict_proba(X_test[correctly_predicted_snowfall_events]), 3)"
   ]
  },
  {
   "cell_type": "code",
   "execution_count": 13,
   "id": "e52517cb-8379-4e15-a01f-8b44211b94f7",
   "metadata": {},
   "outputs": [
    {
     "data": {
      "text/plain": [
       "1"
      ]
     },
     "execution_count": 13,
     "metadata": {},
     "output_type": "execute_result"
    }
   ],
   "source": [
    "misclassified_snowfall = (y_pred_weighted==0) & (y_test==2)\n",
    "len(X_test[misclassified_snowfall])"
   ]
  },
  {
   "cell_type": "code",
   "execution_count": 14,
   "id": "cdc5cf70-aced-41db-8639-65a5f77e8004",
   "metadata": {},
   "outputs": [
    {
     "data": {
      "text/plain": [
       "array([[0.485, 0.065, 0.45 ]])"
      ]
     },
     "execution_count": 14,
     "metadata": {},
     "output_type": "execute_result"
    }
   ],
   "source": [
    "np.round(weighted_pipeline.predict_proba(X_test[misclassified_snowfall]), 3)"
   ]
  },
  {
   "cell_type": "raw",
   "id": "0d63d6b4-36b1-4f49-b7b4-c16ac55bb5e6",
   "metadata": {},
   "source": []
  },
  {
   "cell_type": "markdown",
   "id": "4ea37890-ceef-4b2e-8ebd-3fa0ba398f0a",
   "metadata": {},
   "source": [
    "From the above results we observe that in all 18 correctly predicted snowfall events (TPs for class 2) the model was highly confident with probabilites in most cases above 99%!   \n",
    "Only in one instance the probability was lower at 0.575, where the probability of rain was at 0.409 and for no precipitation almost 0.\n",
    "\n",
    "Regarding the one misclassified actual 'snowfall' event, the model predicted class 2 with 0.457 probability, for 'rain' the probability was 0.06 and finaly the event was classified as 'no precipitation' since it had (even slightly) the highest probability at 0.48.   \n",
    "It is clear that a manual modification of the probability thresholds of each class is impossimble and would result in a model collapse, destabilizing the model's overall predictive performance"
   ]
  },
  {
   "cell_type": "markdown",
   "id": "7e70707c-1f61-44cf-bb02-6bbff60d077d",
   "metadata": {},
   "source": [
    "One last action we will perform is extracting and avaraging the average values for the data points corresponding to the 18 TPs of class 2 and compare it with the corresponding data values of the misclassified snowfall event (1 FN)."
   ]
  },
  {
   "cell_type": "code",
   "execution_count": 15,
   "id": "c2a87bb0-abd5-4250-b7a9-25cbc5c1bc12",
   "metadata": {},
   "outputs": [
    {
     "data": {
      "text/html": [
       "<div>\n",
       "<style scoped>\n",
       "    .dataframe tbody tr th:only-of-type {\n",
       "        vertical-align: middle;\n",
       "    }\n",
       "\n",
       "    .dataframe tbody tr th {\n",
       "        vertical-align: top;\n",
       "    }\n",
       "\n",
       "    .dataframe thead th {\n",
       "        text-align: right;\n",
       "    }\n",
       "</style>\n",
       "<table border=\"1\" class=\"dataframe\">\n",
       "  <thead>\n",
       "    <tr style=\"text-align: right;\">\n",
       "      <th></th>\n",
       "      <th>month_sin</th>\n",
       "      <th>month_cos</th>\n",
       "      <th>temperature_2m_lag_1h</th>\n",
       "      <th>relative_humidity_2m_lag_1h</th>\n",
       "      <th>dew_point_2m_lag_1h</th>\n",
       "      <th>surface_pressure_lag_1h</th>\n",
       "      <th>cloud_cover_low_lag_1h</th>\n",
       "      <th>cloud_cover_mid_lag_1h</th>\n",
       "      <th>evapotranspiration_lag_1h</th>\n",
       "      <th>vapour_pressure_deficit_lag_1h</th>\n",
       "      <th>wind_speed_10m_lag_1h</th>\n",
       "      <th>wind_gusts_10m_lag_1h</th>\n",
       "      <th>soil_temp_0_to_7cm_lag_1h</th>\n",
       "      <th>soil_moist_0_to_7cm_lag_1h</th>\n",
       "      <th>direct_radiation_lag_1h</th>\n",
       "    </tr>\n",
       "  </thead>\n",
       "  <tbody>\n",
       "    <tr>\n",
       "      <th>18642</th>\n",
       "      <td>0.866</td>\n",
       "      <td>0.500</td>\n",
       "      <td>2.462</td>\n",
       "      <td>67.042</td>\n",
       "      <td>-3.038</td>\n",
       "      <td>1010.523</td>\n",
       "      <td>30.000</td>\n",
       "      <td>2.000</td>\n",
       "      <td>0.052</td>\n",
       "      <td>0.241</td>\n",
       "      <td>26.201</td>\n",
       "      <td>51.48</td>\n",
       "      <td>6.162</td>\n",
       "      <td>0.369</td>\n",
       "      <td>22.000</td>\n",
       "    </tr>\n",
       "    <tr>\n",
       "      <th>0</th>\n",
       "      <td>0.703</td>\n",
       "      <td>0.622</td>\n",
       "      <td>2.401</td>\n",
       "      <td>74.890</td>\n",
       "      <td>-1.666</td>\n",
       "      <td>1006.769</td>\n",
       "      <td>70.611</td>\n",
       "      <td>87.389</td>\n",
       "      <td>0.057</td>\n",
       "      <td>0.184</td>\n",
       "      <td>19.370</td>\n",
       "      <td>38.90</td>\n",
       "      <td>4.762</td>\n",
       "      <td>0.350</td>\n",
       "      <td>25.167</td>\n",
       "    </tr>\n",
       "  </tbody>\n",
       "</table>\n",
       "</div>"
      ],
      "text/plain": [
       "       month_sin  month_cos  temperature_2m_lag_1h  \\\n",
       "18642      0.866      0.500                  2.462   \n",
       "0          0.703      0.622                  2.401   \n",
       "\n",
       "       relative_humidity_2m_lag_1h  dew_point_2m_lag_1h  \\\n",
       "18642                       67.042               -3.038   \n",
       "0                           74.890               -1.666   \n",
       "\n",
       "       surface_pressure_lag_1h  cloud_cover_low_lag_1h  \\\n",
       "18642                 1010.523                  30.000   \n",
       "0                     1006.769                  70.611   \n",
       "\n",
       "       cloud_cover_mid_lag_1h  evapotranspiration_lag_1h  \\\n",
       "18642                   2.000                      0.052   \n",
       "0                      87.389                      0.057   \n",
       "\n",
       "       vapour_pressure_deficit_lag_1h  wind_speed_10m_lag_1h  \\\n",
       "18642                           0.241                 26.201   \n",
       "0                               0.184                 19.370   \n",
       "\n",
       "       wind_gusts_10m_lag_1h  soil_temp_0_to_7cm_lag_1h  \\\n",
       "18642                  51.48                      6.162   \n",
       "0                      38.90                      4.762   \n",
       "\n",
       "       soil_moist_0_to_7cm_lag_1h  direct_radiation_lag_1h  \n",
       "18642                       0.369                   22.000  \n",
       "0                           0.350                   25.167  "
      ]
     },
     "execution_count": 15,
     "metadata": {},
     "output_type": "execute_result"
    }
   ],
   "source": [
    "FN_df = X_test[misclassified_snowfall].round(3)\n",
    "TP_mean_df = pd.DataFrame(X_test[correctly_predicted_snowfall_events].mean().round(3)).T\n",
    "result = pd.concat([FN_df, TP_mean_df], axis=0)\n",
    "result"
   ]
  },
  {
   "cell_type": "markdown",
   "id": "d163f0cf-d688-41e0-8c80-702472855546",
   "metadata": {},
   "source": [
    "In both cases (18 TPs and 1 FN), all variables’ values appear close enough with the exception of `cloud clover low` and `cloud cover mid`, but with **zero** domain knowledge it is impossible to infer if this particular instance is a *data anomaly* and continue investigating further.   \n",
    "\n",
    "Another potential explanation could be the data recording methodology used by Open-Meteo for the weather parameters incorporated in the model.   \n",
    "According to Open-Meteo documentation while most of the meteorological variables are reported as instantaneous values at the recorded hour, others—such as precipitation—are aggregated as an average or sum over the preceding hour.\n",
    "\n",
    "For `cloud_cover_low` and `cloud_cover_mid`, however, the values are recorded instantaneously. This means that while the reported cloud coverage at the given hour was low, it is possible that cloud cover increased significantly during the hour leading up to the snowfall event, and the instantaneous cloud cover values recorded at the given hour might not fully capture the conditions that led to the snowfall. This could explain why the model misclassified the event.\n",
    "\n",
    "It is important to note that this remains a hypothesis and, without domain expertise in meteorology, further validation is not possible.   \n",
    "\n",
    "Nonetheless, such considerations lie outside the scope of this practice project."
   ]
  },
  {
   "cell_type": "markdown",
   "id": "1cfc71d7-264a-442c-9b00-1093071904c8",
   "metadata": {},
   "source": [
    "- save the confusion matrix"
   ]
  },
  {
   "cell_type": "code",
   "execution_count": 16,
   "id": "5d30e7a7-5dd2-47f4-9cbe-d0e9b2895862",
   "metadata": {},
   "outputs": [
    {
     "data": {
      "text/plain": [
       "['../reports/04_weighted_logistic_regression_confusion_matrix.joblib']"
      ]
     },
     "execution_count": 16,
     "metadata": {},
     "output_type": "execute_result"
    },
    {
     "name": "stdout",
     "output_type": "stream",
     "text": [
      "Weighted Logistic Regression confusion matrix saved at: ../reports/04_weighted_logistic_regression_confusion_matrix.joblib\n"
     ]
    }
   ],
   "source": [
    "from joblib import dump\n",
    "\n",
    "# Define the file path\n",
    "conf_matrix_path = \"../reports/04_weighted_logistic_regression_confusion_matrix.joblib\"\n",
    "\n",
    "# Save the confusion matrix\n",
    "dump(conf_matrix_weighted, conf_matrix_path)\n",
    "\n",
    "print(f\"Weighted Logistic Regression confusion matrix saved at: {conf_matrix_path}\")"
   ]
  },
  {
   "cell_type": "markdown",
   "id": "af3c51a1-badb-47bc-b8a0-4eb81c7bcca2",
   "metadata": {},
   "source": [
    "##### **The Precision-Recall Curve**"
   ]
  },
  {
   "cell_type": "code",
   "execution_count": 17,
   "id": "ad2339ce-5081-4a54-905f-1d75d7e78c53",
   "metadata": {},
   "outputs": [
    {
     "data": {
      "image/png": "[encoded data removed]",
      "text/plain": [
       "<Figure size 700x500 with 1 Axes>"
      ]
     },
     "metadata": {},
     "output_type": "display_data"
    }
   ],
   "source": [
    "from sklearn.metrics import precision_recall_curve, auc\n",
    "import matplotlib.pyplot as plt\n",
    "\n",
    "# Predicted probabilities\n",
    "y_pred_probs_weighted = weighted_pipeline.predict_proba(X_test)\n",
    "\n",
    "# Define class labels\n",
    "class_labels = ['No Precipitation', 'Rain', 'Snowfall']\n",
    "\n",
    "# Plot Precision-Recall curves\n",
    "figure = plt.figure(figsize=(7, 5))  # Slightly larger figure for clarity\n",
    "for i, label in enumerate(class_labels):  \n",
    "    precision, recall, _ = precision_recall_curve(y_test == i, y_pred_probs_weighted[:, i])\n",
    "    pr_auc = auc(recall, precision)\n",
    "    \n",
    "    # Plot the precision-recall curve\n",
    "    curve_plot = plt.plot(recall, precision, label=f'{label} (PR AUC = {pr_auc:.3f})')\n",
    "\n",
    "# Add labels, title, and legend\n",
    "xlabel = plt.xlabel('Recall')\n",
    "ylabel = plt.ylabel('Precision')\n",
    "title =plt.title('Precision-Recall Curve (Weighted Logistic Regression)', fontsize=14)\n",
    "legend = plt.legend(loc='lower left', framealpha=0.35)\n",
    "grid = plt.grid(True)\n",
    "plt.show()"
   ]
  },
  {
   "cell_type": "markdown",
   "id": "3490c94d-2672-49c3-9461-b405ede336bc",
   "metadata": {},
   "source": [
    "##### **The Classification Report**"
   ]
  },
  {
   "cell_type": "code",
   "execution_count": 18,
   "id": "88e37ba9-7a95-4def-ae79-47da746b91a7",
   "metadata": {},
   "outputs": [
    {
     "name": "stdout",
     "output_type": "stream",
     "text": [
      "Weighted Logistic Regression\n"
     ]
    },
    {
     "data": {
      "text/html": [
       "<div>\n",
       "<style scoped>\n",
       "    .dataframe tbody tr th:only-of-type {\n",
       "        vertical-align: middle;\n",
       "    }\n",
       "\n",
       "    .dataframe tbody tr th {\n",
       "        vertical-align: top;\n",
       "    }\n",
       "\n",
       "    .dataframe thead th {\n",
       "        text-align: right;\n",
       "    }\n",
       "</style>\n",
       "<table border=\"1\" class=\"dataframe\">\n",
       "  <thead>\n",
       "    <tr style=\"text-align: right;\">\n",
       "      <th></th>\n",
       "      <th>precision_0</th>\n",
       "      <th>recall_0</th>\n",
       "      <th>f1_0</th>\n",
       "      <th>pr_auc_0</th>\n",
       "      <th>precision_rain</th>\n",
       "      <th>recall_rain</th>\n",
       "      <th>f1_rain</th>\n",
       "      <th>pr_auc_rain</th>\n",
       "      <th>precision_snow</th>\n",
       "      <th>recall_snow</th>\n",
       "      <th>f1_snow</th>\n",
       "      <th>pr_auc_snow</th>\n",
       "      <th>balanced_accuracy</th>\n",
       "      <th>f1_macro</th>\n",
       "      <th>pr_auc_macro</th>\n",
       "    </tr>\n",
       "  </thead>\n",
       "  <tbody>\n",
       "    <tr>\n",
       "      <th>0</th>\n",
       "      <td>0.9909</td>\n",
       "      <td>0.8422</td>\n",
       "      <td>0.9105</td>\n",
       "      <td>0.9947</td>\n",
       "      <td>0.3539</td>\n",
       "      <td>0.9066</td>\n",
       "      <td>0.509</td>\n",
       "      <td>0.6163</td>\n",
       "      <td>0.1782</td>\n",
       "      <td>0.9474</td>\n",
       "      <td>0.3</td>\n",
       "      <td>0.3832</td>\n",
       "      <td>0.8987</td>\n",
       "      <td>0.5732</td>\n",
       "      <td>0.6706</td>\n",
       "    </tr>\n",
       "  </tbody>\n",
       "</table>\n",
       "</div>"
      ],
      "text/plain": [
       "   precision_0  recall_0    f1_0  pr_auc_0  precision_rain  recall_rain  \\\n",
       "0       0.9909    0.8422  0.9105    0.9947          0.3539       0.9066   \n",
       "\n",
       "   f1_rain  pr_auc_rain  precision_snow  recall_snow  f1_snow  pr_auc_snow  \\\n",
       "0    0.509       0.6163          0.1782       0.9474      0.3       0.3832   \n",
       "\n",
       "   balanced_accuracy  f1_macro  pr_auc_macro  \n",
       "0             0.8987    0.5732        0.6706  "
      ]
     },
     "execution_count": 18,
     "metadata": {},
     "output_type": "execute_result"
    }
   ],
   "source": [
    "from sklearn.metrics import (\n",
    "    classification_report, balanced_accuracy_score, f1_score, \n",
    "    average_precision_score, precision_recall_curve, auc\n",
    ")\n",
    "report_dict_weighted = classification_report(y_test, y_pred_weighted, digits=3, output_dict=True)\n",
    "\n",
    "# Calculate PR AUC for each class\n",
    "precision_0, recall_0, _ = precision_recall_curve(y_test == 0, y_pred_probs_weighted[:, 0])\n",
    "pr_auc_0 = auc(recall_0, precision_0)\n",
    "\n",
    "precision_rain, recall_rain, _ = precision_recall_curve(y_test == 1, y_pred_probs_weighted[:, 1])\n",
    "pr_auc_rain = auc(recall_rain, precision_rain)\n",
    "\n",
    "precision_snow, recall_snow, _ = precision_recall_curve(y_test == 2, y_pred_probs_weighted[:, 2])\n",
    "pr_auc_snow = auc(recall_snow, precision_snow)\n",
    "\n",
    "# Create a single row dataframe with the required metrics\n",
    "report_df_weighted = pd.DataFrame({\n",
    "    'precision_0': [report_dict_weighted['0']['precision']],\n",
    "    'recall_0': [report_dict_weighted['0']['recall']],\n",
    "    'f1_0': [report_dict_weighted['0']['f1-score']],\n",
    "    'pr_auc_0': [pr_auc_0],\n",
    "    \n",
    "    'precision_rain': [report_dict_weighted['1']['precision']],\n",
    "    'recall_rain': [report_dict_weighted['1']['recall']],\n",
    "    'f1_rain': [report_dict_weighted['1']['f1-score']],\n",
    "    'pr_auc_rain': [pr_auc_rain],\n",
    "    \n",
    "    'precision_snow': [report_dict_weighted['2']['precision']],\n",
    "    'recall_snow': [report_dict_weighted['2']['recall']],\n",
    "    'f1_snow': [report_dict_weighted['2']['f1-score']],\n",
    "    'pr_auc_snow': [pr_auc_snow],\n",
    "    'balanced_accuracy': [balanced_accuracy_score(y_test, y_pred_weighted)],\n",
    "    'f1_macro': [f1_score(y_test, y_pred_weighted, average='macro')],\n",
    "    'pr_auc_macro': [average_precision_score(y_test, y_pred_probs_weighted, average='macro')]\n",
    "})\n",
    "\n",
    "print('Weighted Logistic Regression')\n",
    "report_df_weighted = report_df_weighted.round(4)\n",
    "report_df_weighted"
   ]
  },
  {
   "cell_type": "markdown",
   "id": "9ac69989-7d08-485f-b47a-073988834c6b",
   "metadata": {},
   "source": [
    "- save the metrics report"
   ]
  },
  {
   "cell_type": "code",
   "execution_count": 19,
   "id": "6aa33fdd-c706-401c-a0b8-3a8d1a17dbbb",
   "metadata": {},
   "outputs": [
    {
     "data": {
      "text/plain": [
       "['../reports/04_weighted_logistic_regression_report.joblib']"
      ]
     },
     "execution_count": 19,
     "metadata": {},
     "output_type": "execute_result"
    },
    {
     "name": "stdout",
     "output_type": "stream",
     "text": [
      "Weighted Logistic Regression report saved at: ../reports/04_weighted_logistic_regression_report.joblib\n"
     ]
    }
   ],
   "source": [
    "# Define the file path\n",
    "report_path = \"../reports/04_weighted_logistic_regression_report.joblib\"\n",
    "\n",
    "# Save the report DataFrame\n",
    "dump(report_df_weighted, report_path)\n",
    "\n",
    "print(f\"Weighted Logistic Regression report saved at: {report_path}\")"
   ]
  },
  {
   "cell_type": "markdown",
   "id": "ca43ae7a-d1b2-4576-a460-07b21425e4eb",
   "metadata": {},
   "source": [
    "##### **The learning curve**"
   ]
  },
  {
   "cell_type": "code",
   "execution_count": 20,
   "id": "cb312bb7-2c33-4db4-97c2-470f07f6dd11",
   "metadata": {},
   "outputs": [
    {
     "data": {
      "image/png": "[encoded data removed]",
      "text/plain": [
       "<Figure size 1000x600 with 1 Axes>"
      ]
     },
     "metadata": {},
     "output_type": "display_data"
    }
   ],
   "source": [
    "import numpy as np\n",
    "from sklearn.model_selection import learning_curve\n",
    "stkf = StratifiedKFold(n_splits=10, shuffle=True, random_state=42)\n",
    "\n",
    "train_sizes, train_scores, test_scores = learning_curve(\n",
    "    weighted_pipeline, X, y, cv=stkf, scoring='neg_log_loss', n_jobs=-1,\n",
    "    train_sizes=np.linspace(0.1, 1.0, 10), shuffle=True, random_state=42\n",
    ")\n",
    "\n",
    "train_mean = -np.mean(train_scores, axis=1)\n",
    "train_std = np.std(train_scores, axis=1)\n",
    "test_mean = -np.mean(test_scores, axis=1)\n",
    "test_std = np.std(test_scores, axis=1)\n",
    "\n",
    "figure = plt.figure(figsize=(10, 6))\n",
    "plot1 = plt.plot(train_sizes, train_mean, label='Training Score', color='yellow')\n",
    "plot2 = plt.plot(train_sizes, test_mean, label='Validation Score', color='blue', linestyle=':')\n",
    "ce1_fill = plt.fill_between(train_sizes, train_mean - train_std, train_mean + train_std, color='yellow', \n",
    "                            alpha=0.15, label='Training Variability')\n",
    "ce2_fill = plt.fill_between(train_sizes, test_mean - test_std, test_mean + test_std, color='blue', \n",
    "                            alpha=0.15, label='Validation Variability')\n",
    "\n",
    "xlabel = plt.xlabel('Training Set Size')\n",
    "ylabel = plt.ylabel('Log-Loss (Cross-entropy)')\n",
    "title = plt.title('Log-Loss Learning Curve - Weighted Logistic Regression')\n",
    "legend = plt.legend(loc='lower right', framealpha=0.35)\n",
    "grid = plt.grid(True)\n",
    "plt.tight_layout()\n",
    "plt.show()"
   ]
  },
  {
   "cell_type": "markdown",
   "id": "d76d73f2-38eb-4819-9052-7b8e89f0cccb",
   "metadata": {},
   "source": [
    "<u>Inferences from the Learning Curve Plot</u>   \n",
    "\n",
    "Compared to the standard (unweighted) model, log-loss increased significantly, which was expected. This reflects the trade-off introduced by balancing the target classes, which led to a higher number of misclassified instances overall.   \n",
    "\n",
    "The learning curve for the weighted logistic regression model shows that the log-loss for both training and validation sets closely aligns, converging at ~0.328 when the full dataset is used. This suggests no signs of overfitting or underfitting.   \n",
    "\n",
    "As the full dataset is fed into the model both lines appear to plateau suggesting that further improvements from additional data are unlikely.   \n",
    "\n",
    "Finally, the observed variance in validation prediction errors remains significant, indicating that the model struggles to generalize well on unseen data."
   ]
  },
  {
   "cell_type": "markdown",
   "id": "4957c494-ca0e-41a0-866a-8388b0227a97",
   "metadata": {},
   "source": [
    "**Save the Trained Model**"
   ]
  },
  {
   "cell_type": "code",
   "execution_count": 21,
   "id": "ef914656-1c57-4f99-b5b2-2bc3543dfca7",
   "metadata": {},
   "outputs": [
    {
     "data": {
      "text/plain": [
       "['../models/weighted_logistic_regression.joblib']"
      ]
     },
     "execution_count": 21,
     "metadata": {},
     "output_type": "execute_result"
    },
    {
     "name": "stdout",
     "output_type": "stream",
     "text": [
      "Weighted Logistic Regression model saved at: ../models/weighted_logistic_regression.joblib\n"
     ]
    }
   ],
   "source": [
    "# Define the file path\n",
    "model_path = \"../models/weighted_logistic_regression.joblib\"\n",
    "\n",
    "# Save the entire pipeline\n",
    "dump(weighted_pipeline, model_path)\n",
    "\n",
    "print(f\"Weighted Logistic Regression model saved at: {model_path}\")"
   ]
  }
 ],
 "metadata": {
  "kernelspec": {
   "display_name": "Python 3 (ipykernel)",
   "language": "python",
   "name": "python3"
  },
  "language_info": {
   "codemirror_mode": {
    "name": "ipython",
    "version": 3
   },
   "file_extension": ".py",
   "mimetype": "text/x-python",
   "name": "python",
   "nbconvert_exporter": "python",
   "pygments_lexer": "ipython3",
   "version": "3.12.9"
  }
 },
 "nbformat": 4,
 "nbformat_minor": 5
}
